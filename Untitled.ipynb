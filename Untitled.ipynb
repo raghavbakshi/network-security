{
 "cells": [
  {
   "cell_type": "code",
   "execution_count": null,
   "id": "29ef90f0",
   "metadata": {},
   "outputs": [],
   "source": [
    "import os\n",
    "import pandas as pd"
   ]
  },
  {
   "cell_type": "code",
   "execution_count": null,
   "id": "0817d769",
   "metadata": {},
   "outputs": [],
   "source": [
    "pwd"
   ]
  },
  {
   "cell_type": "code",
   "execution_count": null,
   "id": "d29a6ec3",
   "metadata": {},
   "outputs": [],
   "source": [
    "os.chdir(\"E:\\\\full stack\\\\internship\\\\network security\\\\dataset\")"
   ]
  },
  {
   "cell_type": "code",
   "execution_count": null,
   "id": "e4177dea",
   "metadata": {},
   "outputs": [],
   "source": [
    "os.path.isdir(\"dataset\")"
   ]
  },
  {
   "cell_type": "code",
   "execution_count": null,
   "id": "dcf9477a",
   "metadata": {},
   "outputs": [],
   "source": [
    "df = pd.read_csv(\"Friday-WorkingHours-Afternoon-DDos.pcap_ISCX.csv\")"
   ]
  },
  {
   "cell_type": "code",
   "execution_count": null,
   "id": "5c0ea60f",
   "metadata": {},
   "outputs": [],
   "source": [
    "df"
   ]
  },
  {
   "cell_type": "code",
   "execution_count": null,
   "id": "d20066c8",
   "metadata": {},
   "outputs": [],
   "source": [
    "for i in df.columns:\n",
    "    print('\"{}\"'.format(i) + \" : \" + '\"float\"'+',')"
   ]
  },
  {
   "cell_type": "code",
   "execution_count": null,
   "id": "f570b682",
   "metadata": {},
   "outputs": [],
   "source": [
    "pwd"
   ]
  },
  {
   "cell_type": "code",
   "execution_count": null,
   "id": "e72240f4",
   "metadata": {},
   "outputs": [],
   "source": [
    "lst=[]\n",
    "for i in os.listdir('E:\\\\full stack\\\\internship\\\\network security\\\\dataset'):\n",
    "    lst.append(i)\n",
    "print(lst)"
   ]
  },
  {
   "cell_type": "code",
   "execution_count": null,
   "id": "31c4b3f2",
   "metadata": {},
   "outputs": [],
   "source": [
    "length = df.shape[0]\n",
    "lst = [i for i in range(1, length + 1)]\n",
    "#df[\"serial\"] = lst\n",
    "df.insert(0, \"serial\", lst, True)\n",
    "df"
   ]
  },
  {
   "cell_type": "code",
   "execution_count": null,
   "id": "06521208",
   "metadata": {},
   "outputs": [],
   "source": [
    "query = \"insert into data.data(\"\n",
    "for column in df.columns:\n",
    "    query += query + column + \", \"\n",
    "query = query[:-1]\n",
    "query + ')'"
   ]
  },
  {
   "cell_type": "code",
   "execution_count": null,
   "id": "852fb9f1",
   "metadata": {},
   "outputs": [],
   "source": [
    "variable = str(df.columns)"
   ]
  },
  {
   "cell_type": "code",
   "execution_count": null,
   "id": "0688c032",
   "metadata": {},
   "outputs": [],
   "source": [
    "variable = variable.replace('[', '')\n",
    "variable = variable.replace(']', '')\n",
    "variable = variable.replace(\"'\", \"\")"
   ]
  },
  {
   "cell_type": "code",
   "execution_count": null,
   "id": "44f0f283",
   "metadata": {},
   "outputs": [],
   "source": [
    "variable"
   ]
  },
  {
   "cell_type": "code",
   "execution_count": null,
   "id": "52732962",
   "metadata": {},
   "outputs": [],
   "source": [
    "'CREATE TABLE data.data(' + query + ');'"
   ]
  },
  {
   "cell_type": "code",
   "execution_count": null,
   "id": "08ae63df",
   "metadata": {},
   "outputs": [],
   "source": [
    "query"
   ]
  },
  {
   "cell_type": "code",
   "execution_count": null,
   "id": "eb169578",
   "metadata": {},
   "outputs": [],
   "source": [
    "query = 'insert into data.data('\n",
    "\n",
    "for i in df.columns:\n",
    "    query = query + i +','\n",
    "query = query[:-1]\n",
    "query = query +') values({});'"
   ]
  },
  {
   "cell_type": "code",
   "execution_count": null,
   "id": "815b6b49",
   "metadata": {},
   "outputs": [],
   "source": [
    "query.format('grfr')"
   ]
  },
  {
   "cell_type": "code",
   "execution_count": null,
   "id": "07f06bb2",
   "metadata": {},
   "outputs": [],
   "source": [
    "query"
   ]
  },
  {
   "cell_type": "code",
   "execution_count": null,
   "id": "70fb6026",
   "metadata": {},
   "outputs": [],
   "source": [
    "df"
   ]
  },
  {
   "cell_type": "code",
   "execution_count": null,
   "id": "92c35f65",
   "metadata": {},
   "outputs": [],
   "source": [
    "df[\" Label\"].value_counts()"
   ]
  },
  {
   "cell_type": "code",
   "execution_count": null,
   "id": "97074968",
   "metadata": {},
   "outputs": [],
   "source": [
    "df = pd.DataFrame()\n",
    "for i in os.listdir(\"E:\\\\full stack\\\\internship\\\\network security\\\\dataset\"):\n",
    "    print(i)\n",
    "    df = pd.concat([df, pd.read_csv(i)])"
   ]
  },
  {
   "cell_type": "code",
   "execution_count": null,
   "id": "fafb12db",
   "metadata": {},
   "outputs": [],
   "source": [
    "df"
   ]
  },
  {
   "cell_type": "code",
   "execution_count": null,
   "id": "97bbf899",
   "metadata": {},
   "outputs": [],
   "source": [
    "lst = df[\" Label\"].unique()\n",
    "df1 = pd.DataFrame()\n",
    "for i in lst:\n",
    "    df1 = pd.concat([df1,df[df[\" Label\"]==i].sample(100,replace=True)])"
   ]
  },
  {
   "cell_type": "code",
   "execution_count": null,
   "id": "767e12e7",
   "metadata": {},
   "outputs": [],
   "source": [
    "df1"
   ]
  },
  {
   "cell_type": "code",
   "execution_count": null,
   "id": "d1d77a04",
   "metadata": {},
   "outputs": [],
   "source": [
    "df[df[\" Label\"]==\"BENIGN\"].sample(100)"
   ]
  },
  {
   "cell_type": "code",
   "execution_count": null,
   "id": "7e4ee13c",
   "metadata": {},
   "outputs": [],
   "source": []
  },
  {
   "cell_type": "code",
   "execution_count": null,
   "id": "90d22b65",
   "metadata": {},
   "outputs": [],
   "source": [
    "df.to_csv(path_or_buf=\"E:full stack\")"
   ]
  },
  {
   "cell_type": "code",
   "execution_count": null,
   "id": "f36bed17",
   "metadata": {},
   "outputs": [],
   "source": [
    "dire = os.pwd"
   ]
  },
  {
   "cell_type": "code",
   "execution_count": null,
   "id": "e0d60887",
   "metadata": {},
   "outputs": [],
   "source": [
    "pwd"
   ]
  },
  {
   "cell_type": "code",
   "execution_count": null,
   "id": "9f146fc6",
   "metadata": {},
   "outputs": [],
   "source": [
    "d= os.getcwd()"
   ]
  },
  {
   "cell_type": "code",
   "execution_count": null,
   "id": "1cbd76e5",
   "metadata": {},
   "outputs": [],
   "source": [
    "os.chdir(r\"E:\\\\full stack\\\\internship\\\\network security\")"
   ]
  },
  {
   "cell_type": "code",
   "execution_count": null,
   "id": "27718543",
   "metadata": {},
   "outputs": [],
   "source": [
    "import json"
   ]
  },
  {
   "cell_type": "code",
   "execution_count": null,
   "id": "dbd10db5",
   "metadata": {},
   "outputs": [],
   "source": [
    "with open(\"schema_training.json\", \"r\") as f:\n",
    "    dic = json.load(f)\n",
    "    col_name = dic[\"col_name\"]\n",
    "    number_of_columns = dic[\"num_columns\"]"
   ]
  },
  {
   "cell_type": "code",
   "execution_count": null,
   "id": "fa3fcf8b",
   "metadata": {},
   "outputs": [],
   "source": [
    "pwd"
   ]
  },
  {
   "cell_type": "code",
   "execution_count": null,
   "id": "5a320be4",
   "metadata": {},
   "outputs": [],
   "source": [
    "path = os.path.join(\"Training_rawfiles_validated/\", \"Good_Raw/\")\n",
    "if not os.path.isdir(path):\n",
    "    os.mkdir(path)"
   ]
  },
  {
   "cell_type": "code",
   "execution_count": null,
   "id": "362e5239",
   "metadata": {},
   "outputs": [],
   "source": [
    "path = \"Training_rawfiles_validated/Good_Raw\"\n",
    "for files in os.listdir(path):\n",
    "    print('gf')"
   ]
  },
  {
   "cell_type": "code",
   "execution_count": null,
   "id": "81ab2b59",
   "metadata": {},
   "outputs": [],
   "source": [
    "goodDataPath = \"Training_rawfiles_validated/Good_Raw\"\n",
    "for files in os.listdir(path):\n",
    "    print(files)\n",
    "    df = pd.read_csv(goodDataPath + \"/\" + files)\n",
    "    try:\n",
    "        for column in df.columns:\n",
    "            df[column].fillna(df[column].mean(), inplace=True)\n",
    "    except:\n",
    "        for column in df.columns:\n",
    "            df[column].fillna(df[column].mode(), inplace=True)\n",
    "    length = df.shape[0]\n",
    "    lst = [i for i in range(1, length + 1)]\n",
    "    df[\"serial\"] = lst\n",
    "    df.insert(0, \"serial\", lst, True)"
   ]
  },
  {
   "cell_type": "code",
   "execution_count": null,
   "id": "2125b670",
   "metadata": {},
   "outputs": [],
   "source": [
    "pwd"
   ]
  },
  {
   "cell_type": "code",
   "execution_count": null,
   "id": "e23bbb35",
   "metadata": {},
   "outputs": [],
   "source": [
    "from cassandra.cluster import Cluster\n",
    "from cassandra.auth import PlainTextAuthProvider\n",
    "import os\n",
    "import pandas as pd\n",
    "import csv\n",
    "import shutil\n",
    "\n",
    "cloud_config = {\n",
    "    'secure_connect_bundle': r'C:\\Users\\Dell\\Downloads\\secure-connect-network-security.zip'\n",
    "}\n",
    "auth_provider = PlainTextAuthProvider('wMYGfEqsjxXldhDPlUXpiNAu',\n",
    "                                      'LLA4lR8g4bQOjrDXZQPO.IOchQublLQ4LArmJotwpSH13LhEnSkKQfBjaIwaMkEv-e6ftB,92p6yZ,vZxZnoSK37OWQ.I.eUGaU7e1_3jUGUMQjltX2otmw9ZZ,7MF4A')\n",
    "cluster = Cluster(cloud=cloud_config, auth_provider=auth_provider)"
   ]
  },
  {
   "cell_type": "code",
   "execution_count": null,
   "id": "df7518eb",
   "metadata": {},
   "outputs": [],
   "source": [
    " session = cluster.connect()"
   ]
  },
  {
   "cell_type": "code",
   "execution_count": null,
   "id": "754fc343",
   "metadata": {},
   "outputs": [],
   "source": [
    "diri = os.getcwd()\n",
    "path = \"Training_rawfiles_validated/Good_Raw/\"\n",
    "df = pd.DataFrame()\n",
    "for i in os.listdir(path):\n",
    "    df = pd.concat([df, pd.read_csv(i)])\n",
    "lst = df[\" Label\"].unique()\n",
    "df1 = pd.DataFrame()\n",
    "for i in lst:\n",
    "    df1 = pd.concat([df1, df[df[\" Label\"] == i].sample(100, replace=True)])\n",
    "shutil.rmtree(path)\n",
    "os.mkdir(path)\n",
    "os.chdir(path)\n",
    "df1.to_csv(\"final data\")\n",
    "os.chdir(dir)"
   ]
  },
  {
   "cell_type": "code",
   "execution_count": null,
   "id": "92797699",
   "metadata": {},
   "outputs": [],
   "source": [
    "diri = os.getcwd()"
   ]
  },
  {
   "cell_type": "code",
   "execution_count": null,
   "id": "cc778185",
   "metadata": {},
   "outputs": [],
   "source": [
    "diri"
   ]
  },
  {
   "cell_type": "code",
   "execution_count": null,
   "id": "695e9aae",
   "metadata": {},
   "outputs": [],
   "source": [
    "pwd"
   ]
  },
  {
   "cell_type": "code",
   "execution_count": null,
   "id": "35e49ca2",
   "metadata": {},
   "outputs": [],
   "source": [
    "df = pd.DataFrame()\n",
    "for i in os.listdir(\"E:\\\\full stack\\\\internship\\\\network security\\\\dataset\"):\n",
    "    print(i)\n",
    "    pd.read_csv(i)\n",
    "    df = pd.concat([df, pd.read_csv(i)])"
   ]
  },
  {
   "cell_type": "code",
   "execution_count": null,
   "id": "af72ae1b",
   "metadata": {},
   "outputs": [],
   "source": [
    "path = \"Training_rawfiles_validated/Good_Raw/\"\n",
    "df = pd.DataFrame()\n",
    "for i in os.listdir(path):\n",
    "    print(i)\n",
    "    \n",
    "    #df = pd.concat([df, pd.read_csv(i)])"
   ]
  },
  {
   "cell_type": "code",
   "execution_count": null,
   "id": "9b6ac828",
   "metadata": {},
   "outputs": [],
   "source": [
    "pwd"
   ]
  },
  {
   "cell_type": "code",
   "execution_count": null,
   "id": "858a3805",
   "metadata": {},
   "outputs": [],
   "source": [
    "os.chdir('E:/full stack/internship/network security')"
   ]
  },
  {
   "cell_type": "code",
   "execution_count": null,
   "id": "e3b74dc0",
   "metadata": {},
   "outputs": [],
   "source": [
    "diri = os.getcwd()\n",
    "path = \"\\\\Training_rawfiles_validated\\\\Good_Raw\\\\\"\n",
    "diri1 = diri +path\n",
    "diri\n",
    "os.chdir(diri +path)\n"
   ]
  },
  {
   "cell_type": "code",
   "execution_count": null,
   "id": "db1eb484",
   "metadata": {},
   "outputs": [],
   "source": [
    "pwd"
   ]
  },
  {
   "cell_type": "code",
   "execution_count": null,
   "id": "12df938a",
   "metadata": {},
   "outputs": [],
   "source": [
    "for i in os.listdir():\n",
    "    print(i)\n",
    "    df = pd.read_csv(i)\n",
    "    break"
   ]
  },
  {
   "cell_type": "code",
   "execution_count": null,
   "id": "678b3a56",
   "metadata": {},
   "outputs": [],
   "source": [
    "df"
   ]
  },
  {
   "cell_type": "code",
   "execution_count": null,
   "id": "3c060fcd",
   "metadata": {},
   "outputs": [],
   "source": [
    "directory = os.getcwd()\n",
    "path = \"Training_rawfiles_validated/Good_Raw/\"\n",
    "df = pd.DataFrame()\n",
    "os.chdir(directory + path)\n",
    "for i in os.listdir():\n",
    "    df = pd.concat([df, pd.read_csv(i)])\n",
    "lst = df[\" Label\"].unique()\n",
    "df1 = pd.DataFrame()\n",
    "for i in lst:\n",
    "    df1 = pd.concat([df1, df[df[\" Label\"] == i].sample(100, replace=True)])\n",
    "shutil.rmtree(path)\n",
    "os.mkdir(path)\n",
    "os.chdir(path)\n",
    "df1.to_csv(\"final data\")\n",
    "os.chdir(directory)"
   ]
  },
  {
   "cell_type": "code",
   "execution_count": null,
   "id": "1adbd57a",
   "metadata": {},
   "outputs": [],
   "source": [
    "directory = os.getcwd()\n",
    "path = \"/Training_rawfiles_validated/Good_Raw/\"\n",
    "df = pd.DataFrame()\n",
    "os.chdir(directory + path)"
   ]
  },
  {
   "cell_type": "code",
   "execution_count": null,
   "id": "287fb2df",
   "metadata": {},
   "outputs": [],
   "source": [
    "for i in os.listdir():\n",
    "    df = pd.concat([df, pd.read_csv(i)])"
   ]
  },
  {
   "cell_type": "code",
   "execution_count": null,
   "id": "dfeee723",
   "metadata": {},
   "outputs": [],
   "source": [
    "lst = df[\" Label\"].unique()\n",
    "df1 = pd.DataFrame()\n",
    "for i in lst:\n",
    "    df1 = pd.concat([df1, df[df[\" Label\"] == i].sample(100, replace=True)])"
   ]
  },
  {
   "cell_type": "code",
   "execution_count": null,
   "id": "f3be2c31",
   "metadata": {},
   "outputs": [],
   "source": [
    "os.chdir(directory)\n",
    "#shutil.rmtree('Training_rawfiles_validated')\n",
    "os.mkdir('Training_rawfiles_validated')\n",
    "os.chdir(path)\n",
    "df1.to_csv(\"final data\")\n",
    "os.chdir(directory)"
   ]
  },
  {
   "cell_type": "code",
   "execution_count": null,
   "id": "92690b27",
   "metadata": {},
   "outputs": [],
   "source": [
    "pwd"
   ]
  },
  {
   "cell_type": "code",
   "execution_count": null,
   "id": "f8e42e5e",
   "metadata": {},
   "outputs": [],
   "source": [
    "os."
   ]
  },
  {
   "cell_type": "code",
   "execution_count": null,
   "id": "b8075f9e",
   "metadata": {},
   "outputs": [],
   "source": [
    "if 'Training_rawfiles_validated' not in os.listdir():\n",
    "    print('gfd')"
   ]
  },
  {
   "cell_type": "code",
   "execution_count": null,
   "id": "b0505605",
   "metadata": {},
   "outputs": [],
   "source": [
    "session = cluster.connect()\n",
    "path = 'Training_Database/'\n",
    "badFilePath = \"Training_rawfiles_validated/Bad_Raw/\"\n",
    "goodFilePath = \"Training_rawfiles_validated/Good_Raw/\"\n",
    "\n",
    "onlyfiles = [f for f in os.listdir(goodFilePath)]\n",
    "log_file = open(\"Training_Logs/DbInsertLog.txt\", 'a+')\n",
    "count_file_row = 0\n",
    "path = \"Training_rawfiles_validated/Good_Raw\"\n",
    "for files in os.listdir(path):\n",
    "    df = pd.read_csv(goodFilePath + files)\n",
    "    df.drop(columns=['Unnamed: 0'],inplace=True)\n",
    "    break\n"
   ]
  },
  {
   "cell_type": "code",
   "execution_count": null,
   "id": "07d107c9",
   "metadata": {},
   "outputs": [],
   "source": [
    "log_file.close()"
   ]
  },
  {
   "cell_type": "code",
   "execution_count": null,
   "id": "f5d3488c",
   "metadata": {},
   "outputs": [],
   "source": [
    "for file in onlyfiles:\n",
    "    \n",
    "\n",
    "    with open(goodFilePath + '/' + file, \"r\") as f:\n",
    "        next(f)\n",
    "        reader = csv.reader(f)\n",
    "\n",
    "        for line in reader:\n",
    "            count_file_row += 1\n",
    "            \n",
    "            variable = line\n",
    "            variable = str(variable)\n",
    "            variable = variable.replace('[', '')\n",
    "            variable = variable.replace(']', '')\n",
    "            variable = variable.replace(\"'\", \"\")\n",
    "            query = 'insert into data.data('\n",
    "\n",
    "            for i in df.columns:\n",
    "                query = query + i + ','\n",
    "            query = query[:-1]\n",
    "            query = query + ') values({});'\n",
    "            query = query.format(\n",
    "                variable)\n",
    "            session.execute(query)\n",
    "\n",
    "            \n",
    "\n",
    "    for i in session.execute(\"SELECT Count(*) from dataset.data\"):\n",
    "        count_database_row = i[0]"
   ]
  },
  {
   "cell_type": "code",
   "execution_count": null,
   "id": "ecac9cb1",
   "metadata": {},
   "outputs": [],
   "source": [
    "query"
   ]
  },
  {
   "cell_type": "code",
   "execution_count": null,
   "id": "e4d0c088",
   "metadata": {},
   "outputs": [],
   "source": [
    "for row in session.execute(\"SELECT keyspace_name, table_name FROM   system_schema.tables;\"):\n",
    "    print(row)\n",
    "    if row[0] == \"data\":\n",
    "        if row[1] == \"data\":\n",
    "            print(51)"
   ]
  },
  {
   "cell_type": "code",
   "execution_count": null,
   "id": "546df85f",
   "metadata": {},
   "outputs": [],
   "source": [
    "path = \"Training_rawfiles_validated/Good_Raw/\"\n",
    "for files in os.listdir(path):\n",
    "    df = pd.read_csv(path + files)\n",
    "    break\n",
    "query = \"\"\n",
    "for column in df.columns:\n",
    "    if column == \"serial\":\n",
    "        query += column + \" PRIMARY KEY,\"\n",
    "    else:\n",
    "        query += column + \" decimal,\"\n",
    "query = query[:-1]"
   ]
  },
  {
   "cell_type": "code",
   "execution_count": null,
   "id": "e0c5dc2b",
   "metadata": {},
   "outputs": [],
   "source": [
    "query"
   ]
  },
  {
   "cell_type": "code",
   "execution_count": null,
   "id": "b7b3a2be",
   "metadata": {},
   "outputs": [],
   "source": [
    "path = os.getcwd()"
   ]
  },
  {
   "cell_type": "code",
   "execution_count": null,
   "id": "0e171aca",
   "metadata": {},
   "outputs": [],
   "source": [
    "pd.read_csv(path + '/Training_rawfiles_validated/Good_Raw/final data')"
   ]
  },
  {
   "cell_type": "code",
   "execution_count": null,
   "id": "7a028bc1",
   "metadata": {},
   "outputs": [],
   "source": [
    "from cassandra.cluster import Cluster\n",
    "from cassandra.auth import PlainTextAuthProvider\n",
    "cloud_config = {\n",
    "    'secure_connect_bundle': r'C:\\Users\\Dell\\Downloads\\secure-connect-network-security.zip'\n",
    "}\n",
    "auth_provider = PlainTextAuthProvider('wMYGfEqsjxXldhDPlUXpiNAu',\n",
    "                                      'LLA4lR8g4bQOjrDXZQPO.IOchQublLQ4LArmJotwpSH13LhEnSkKQfBjaIwaMkEv-e6ftB,92p6yZ,'\n",
    "                                      'vZxZnoSK37OWQ.I.eUGaU7e1_3jUGUMQjltX2otmw9ZZ,7MF4A')\n",
    "cluster = Cluster(cloud=cloud_config, auth_provider=auth_provider)"
   ]
  },
  {
   "cell_type": "code",
   "execution_count": null,
   "id": "faa7ca63",
   "metadata": {},
   "outputs": [],
   "source": [
    "import os\n",
    "import pandas as pd\n",
    "path = \"Training_rawfiles_validated/Good_Raw/\"\n",
    "for files in os.listdir(path):\n",
    "    df = pd.read_csv(path + files)\n",
    "    "
   ]
  },
  {
   "cell_type": "code",
   "execution_count": null,
   "id": "da894745",
   "metadata": {},
   "outputs": [],
   "source": [
    "df"
   ]
  },
  {
   "cell_type": "code",
   "execution_count": null,
   "id": "f972df09",
   "metadata": {},
   "outputs": [],
   "source": [
    "df.drop(columns=['Unnamed: 0','serial.1'], inplace=True)"
   ]
  },
  {
   "cell_type": "code",
   "execution_count": null,
   "id": "69fa4af4",
   "metadata": {},
   "outputs": [],
   "source": [
    "df"
   ]
  },
  {
   "cell_type": "code",
   "execution_count": null,
   "id": "fa4bf8e9",
   "metadata": {},
   "outputs": [],
   "source": [
    "query = \"\"\n",
    "for column in df.columns:\n",
    "    if column[0] == ' ':\n",
    "        column = column[1:]\n",
    "    column = column.replace(' ','_')\n",
    "    column = column.replace('/','_')\n",
    "    column = column.replace('.','_')\n",
    "    \n",
    "    if column == \"serial\":\n",
    "        query += column + \" decimal PRIMARY KEY,\"\n",
    "    elif column == \" Label\":\n",
    "        query += column + \" varchar\"\n",
    "    else:\n",
    "        query += column + \" decimal,\"\n"
   ]
  },
  {
   "cell_type": "code",
   "execution_count": null,
   "id": "a34803b0",
   "metadata": {},
   "outputs": [],
   "source": [
    "query"
   ]
  },
  {
   "cell_type": "code",
   "execution_count": null,
   "id": "a4335a97",
   "metadata": {},
   "outputs": [],
   "source": [
    "session = cluster.connect()\n",
    "session.execute('CREATE TABLE data.data(' + query + ');').one()"
   ]
  },
  {
   "cell_type": "code",
   "execution_count": null,
   "id": "b6dbfa5b",
   "metadata": {},
   "outputs": [],
   "source": [
    "query[1:478]"
   ]
  },
  {
   "cell_type": "code",
   "execution_count": null,
   "id": "593e80e0",
   "metadata": {},
   "outputs": [],
   "source": [
    "for column in df.columns:\n",
    "    if column[0] == ' ':\n",
    "        column = column[1:]\n",
    "        column = column.replace(' ','_')"
   ]
  },
  {
   "cell_type": "code",
   "execution_count": null,
   "id": "5715266e",
   "metadata": {},
   "outputs": [],
   "source": [
    "for column in df.columns:\n",
    "    print(column)\n",
    "    if column[0] == ' ':\n",
    "        column = column[1:]\n",
    "    column = column.replace(' ','_')\n",
    "    print(column)"
   ]
  },
  {
   "cell_type": "code",
   "execution_count": null,
   "id": "56526672",
   "metadata": {},
   "outputs": [],
   "source": [
    "column"
   ]
  },
  {
   "cell_type": "code",
   "execution_count": null,
   "id": "2c3936ba",
   "metadata": {},
   "outputs": [],
   "source": [
    "lst = []\n",
    "for column in df.columns:\n",
    "    "
   ]
  },
  {
   "cell_type": "code",
   "execution_count": null,
   "id": "06a74d9d",
   "metadata": {},
   "outputs": [],
   "source": [
    "df['Active Mean'].value_counts()[0]"
   ]
  },
  {
   "cell_type": "code",
   "execution_count": null,
   "id": "18c89852",
   "metadata": {},
   "outputs": [],
   "source": [
    "(df.isin([0]).sum(axis=0) > 1499).value_counts()"
   ]
  },
  {
   "cell_type": "code",
   "execution_count": null,
   "id": "7ae3f825",
   "metadata": {},
   "outputs": [],
   "source": [
    "(df.isin([0]).sum(axis=0)==1500).index"
   ]
  },
  {
   "cell_type": "code",
   "execution_count": null,
   "id": "6a0eeae6",
   "metadata": {},
   "outputs": [],
   "source": [
    "sorted(df.isin([0]).sum(axis=0),reverse=True)"
   ]
  },
  {
   "cell_type": "code",
   "execution_count": null,
   "id": "0369e675",
   "metadata": {},
   "outputs": [],
   "source": [
    "empty_columns = []\n",
    "for i in df.columns:\n",
    "    if df[i].isin([0]).sum(axis=0)==1500:\n",
    "        empty_columns.append(i)\n",
    "df = df.drop(columns=empty_columns)"
   ]
  },
  {
   "cell_type": "code",
   "execution_count": null,
   "id": "c53eed50",
   "metadata": {},
   "outputs": [],
   "source": [
    "empty_columns"
   ]
  },
  {
   "cell_type": "code",
   "execution_count": null,
   "id": "962b2c4c",
   "metadata": {},
   "outputs": [],
   "source": []
  },
  {
   "cell_type": "code",
   "execution_count": null,
   "id": "9200698e",
   "metadata": {},
   "outputs": [],
   "source": [
    "df"
   ]
  },
  {
   "cell_type": "code",
   "execution_count": null,
   "id": "433c2dc4",
   "metadata": {},
   "outputs": [],
   "source": [
    "for row in session.execute(\"SELECT keyspace_name, table_name FROM   system_schema.tables;\"):\n",
    "    if row[0] == \"data\":\n",
    "        if row[1] == \"data\":\n",
    "            print('gtrerf')"
   ]
  },
  {
   "cell_type": "code",
   "execution_count": null,
   "id": "62fdb508",
   "metadata": {},
   "outputs": [],
   "source": [
    "goodFilePath = \"Training_rawfiles_validated/Good_Raw/\"\n",
    "onlyfiles = [f for f in os.listdir(goodFilePath)]"
   ]
  },
  {
   "cell_type": "code",
   "execution_count": null,
   "id": "30ca57f4",
   "metadata": {},
   "outputs": [],
   "source": [
    "onlyfiles"
   ]
  },
  {
   "cell_type": "code",
   "execution_count": null,
   "id": "83f4fcf5",
   "metadata": {},
   "outputs": [],
   "source": [
    "count_file_row = 0\n",
    "path = \"Training_rawfiles_validated/Good_Raw/\"\n",
    "for files in os.listdir(path):\n",
    "    df = pd.read_csv(path + files)\n",
    "    break"
   ]
  },
  {
   "cell_type": "code",
   "execution_count": null,
   "id": "15263c94",
   "metadata": {},
   "outputs": [],
   "source": [
    "import csv\n",
    "for file in onlyfiles:\n",
    "    \n",
    "\n",
    "    with open(goodFilePath + '/' + file, \"r\") as f:\n",
    "        next(f)\n",
    "        reader = csv.reader(f)\n",
    "\n",
    "        for line in reader:\n",
    "            count_file_row += 1\n",
    "           \n",
    "            variable = line\n",
    "            variable = str(variable)\n",
    "            variable = variable.replace('[', '')\n",
    "            variable = variable.replace(']', '')\n",
    "            variable = variable.replace(\"'\", \"\")\n",
    "            query = 'insert into data.data('\n",
    "\n",
    "            for i in df.columns:\n",
    "                query = query + i + ','\n",
    "            query = query[:-1]\n",
    "            query = query + ') values({});'\n",
    "            query = query.format(variable)"
   ]
  },
  {
   "cell_type": "code",
   "execution_count": null,
   "id": "a460cdfa",
   "metadata": {},
   "outputs": [],
   "source": [
    "query"
   ]
  },
  {
   "cell_type": "code",
   "execution_count": null,
   "id": "9320f7a6",
   "metadata": {},
   "outputs": [],
   "source": []
  },
  {
   "cell_type": "code",
   "execution_count": null,
   "id": "c62d5962",
   "metadata": {},
   "outputs": [],
   "source": [
    "df"
   ]
  },
  {
   "cell_type": "code",
   "execution_count": null,
   "id": "d18ea6b9",
   "metadata": {},
   "outputs": [],
   "source": [
    "os.chdir(\"E:\\\\full stack\\\\internship\\\\network security\")\n",
    "directory = os.getcwd()\n",
    "\n",
    "path = \"/Training_rawfiles_validated/Good_Raw/\"\n",
    "df = pd.DataFrame()\n",
    "os.chdir(directory + path)\n",
    "for i in os.listdir():\n",
    "    df = pd.concat([df, pd.read_csv(i)])\n",
    "lst = df[\" Label\"].unique()\n",
    "df1 = pd.DataFrame()\n",
    "for i in lst:\n",
    "    df1 = pd.concat([df1, df[df[\" Label\"] == i].sample(100, replace=True)])\n",
    "length = df1.shape[0]\n",
    "lst = [i for i in range(1, length + 1)]\n",
    "\n",
    "df1.insert(0, \"serial\", lst, True)\n",
    "df1 = df1.drop(columns=[\"Unnamed: 0\",\"Unnamed: 0.1\",\"serial.1\",\"serial.1.1\"])\n",
    "empty_columns = []\n",
    "for i in df1.columns:\n",
    "    if df1[i].isin([0]).sum(axis=0) == 1500:\n",
    "        empty_columns.append(i)\n",
    "df1 = df1.drop(columns=empty_columns)"
   ]
  },
  {
   "cell_type": "code",
   "execution_count": null,
   "id": "7969173b",
   "metadata": {},
   "outputs": [],
   "source": [
    "os.chdir(\"E:\\\\full stack\\\\internship\\\\network security\")\n",
    "directory = os.getcwd()\n",
    "\n",
    "path = \"/Training_rawfiles_validated/Good_Raw/\"\n",
    "df = pd.DataFrame()\n",
    "os.chdir(directory + path)\n",
    "for i in os.listdir():\n",
    "    df = pd.concat([df, pd.read_csv(i)])\n",
    "lst = df[\" Label\"].unique()\n",
    "df1 = pd.DataFrame()\n",
    "for i in lst:\n",
    "    df1 = pd.concat([df1, df[df[\" Label\"] == i].sample(100, replace=True)])\n",
    "length = df1.shape[0]\n",
    "lst = [i for i in range(1, length + 1)]\n",
    "\n",
    "df1.insert(0, \"serial\", lst, True)\n",
    "df1"
   ]
  },
  {
   "cell_type": "code",
   "execution_count": null,
   "id": "0aa67b32",
   "metadata": {},
   "outputs": [],
   "source": [
    "os.chdir(\"E:\\\\full stack\\\\internship\\\\network security\")\n",
    "directory = os.getcwd()\n",
    "\n",
    "path = \"/Training_rawfiles_validated/Good_Raw/\"\n",
    "df = pd.DataFrame()\n",
    "os.chdir(directory + path)\n",
    "for i in os.listdir():\n",
    "    print(pd.read_csv(i))\n",
    "    df = pd.concat([df, pd.read_csv(i)])"
   ]
  },
  {
   "cell_type": "code",
   "execution_count": null,
   "id": "ad99f989",
   "metadata": {},
   "outputs": [],
   "source": [
    "df"
   ]
  },
  {
   "cell_type": "code",
   "execution_count": null,
   "id": "242a3bb3",
   "metadata": {},
   "outputs": [],
   "source": [
    "import os\n",
    "import pandas as pd\n",
    "directory = os.getcwd()\n",
    "\n",
    "path = \"/Training_rawfiles_validated/Good_Raw/\"\n",
    "df = pd.DataFrame()\n",
    "os.chdir(directory + path)\n",
    "for i in os.listdir():\n",
    "    df = pd.concat([df, pd.read_csv(i)])\n",
    "lst = df[\" Label\"].unique()\n",
    "df1 = pd.DataFrame()\n",
    "for i in lst:\n",
    "    df1 = pd.concat([df1, df[df[\" Label\"] == i].sample(100, replace=True)])\n"
   ]
  },
  {
   "cell_type": "code",
   "execution_count": null,
   "id": "6531bf5e",
   "metadata": {},
   "outputs": [],
   "source": [
    "import os\n",
    "import pandas as pd\n",
    "session = cluster.connect()\n",
    "goodFilePath = \"Training_rawfiles_validated/Good_Raw\"\n",
    "#badFilePath = self.badFilePath\n",
    "onlyfiles = [f for f in os.listdir(goodFilePath)]\n",
    "\n",
    "count_file_row = 0\n",
    "path = \"Training_rawfiles_validated/Good_Raw/\"\n",
    "for files in os.listdir(path):\n",
    "    df = pd.read_csv(path + files)\n",
    "    df.drop(columns=[\"Unnamed: 0\"],inplace = True)\n",
    "    empty_columns = []\n",
    "    for i in df.columns:\n",
    "        if df[i].isin([0]).sum(axis=0) == 1500:\n",
    "            empty_columns.append(i)\n",
    "    lst = [i for i in range(1,df.shape[0]+1)]\n",
    "    df.insert(0, \"serial\", lst, True)\n",
    "    break\n"
   ]
  },
  {
   "cell_type": "code",
   "execution_count": null,
   "id": "b9196308",
   "metadata": {},
   "outputs": [],
   "source": [
    "df"
   ]
  },
  {
   "cell_type": "code",
   "execution_count": null,
   "id": "fe1cc86a",
   "metadata": {},
   "outputs": [],
   "source": [
    "path = \"Training_rawfiles_validated/Good_Raw/\"\n",
    "df = pd.read_csv(path + 'final data')\n",
    "empty_columns = []\n",
    "for i in df.columns:\n",
    "    if df[i].isin([0]).sum(axis=0) == 1500:\n",
    "        empty_columns.append(i)\n",
    "df.drop(columns = empty_columns,inplace=True)\n",
    "for file in onlyfiles:\n",
    "\n",
    "\n",
    "    with open(goodFilePath + '/' + file, \"r\") as f:\n",
    "        next(f)\n",
    "        reader = csv.reader(f)\n",
    "\n",
    "        for line in reader:\n",
    "            print(line)\n",
    "            count_file_row += 1\n",
    "        \n",
    "            \n",
    "            variable = str(variable)\n",
    "            variable = variable.replace('[', '')\n",
    "            variable = variable.replace(']', '')\n",
    "            variable = variable.replace(\"'\", \"\")\n",
    "            variable = variable.replace(', ,',',')\n",
    "            \n",
    "            \n",
    "            query = 'insert into data.data('\n",
    "            for column in df.columns:\n",
    "                \n",
    "                if column[0] == ' ':\n",
    "                    column = column[1:]\n",
    "                \n",
    "                column = column.replace(' ', '_')\n",
    "                column = column.replace('/', '_')\n",
    "                column = column.replace('.', '_')\n",
    "                query = query + column+\",\"\n",
    "            query = query[:-1]\n",
    "            query = query + ') values({});'\n",
    "            query = query.format(\n",
    "                variable)\n",
    "            query\n",
    "            session.execute(query)\n"
   ]
  },
  {
   "cell_type": "code",
   "execution_count": null,
   "id": "262f03fa",
   "metadata": {},
   "outputs": [],
   "source": [
    "variable.count(',')\n"
   ]
  },
  {
   "cell_type": "code",
   "execution_count": null,
   "id": "6d9384d8",
   "metadata": {},
   "outputs": [],
   "source": [
    "query[:1494]"
   ]
  },
  {
   "cell_type": "code",
   "execution_count": null,
   "id": "a9ff5830",
   "metadata": {},
   "outputs": [],
   "source": [
    "session.execute('insert into data.data(serial,Destination_Port,Flow_Duration,Total_Fwd_Packets,Total_Backward_Packets,Total_Length_of_Fwd_Packets,Total_Length_of_Bwd_Packets,Fwd_Packet_Length_Max,Fwd_Packet_Length_Min,Fwd_Packet_Length_Mean,Fwd_Packet_Length_Std,Bwd_Packet_Length_Max,Bwd_Packet_Length_Min,Bwd_Packet_Length_Mean,Bwd_Packet_Length_Std,Flow_Bytes_s,Flow_Packets_s,Flow_IAT_Mean,Flow_IAT_Std,Flow_IAT_Max,Flow_IAT_Min,Fwd_IAT_Total,Fwd_IAT_Mean,Fwd_IAT_Std,Fwd_IAT_Max,Fwd_IAT_Min,Bwd_IAT_Total,Bwd_IAT_Mean,Bwd_IAT_Std,Bwd_IAT_Max,Bwd_IAT_Min,Fwd_PSH_Flags,Fwd_Header_Length,Bwd_Header_Length,Fwd_Packets_s,Bwd_Packets_s,Min_Packet_Length,Max_Packet_Length,Packet_Length_Mean,Packet_Length_Std,Packet_Length_Variance,FIN_Flag_Count,SYN_Flag_Count,PSH_Flag_Count,ACK_Flag_Count,URG_Flag_Count,Down_Up_Ratio,Average_Packet_Size,Avg_Fwd_Segment_Size,Avg_Bwd_Segment_Size,Fwd_Header_Length_1,Subflow_Fwd_Packets,Subflow_Fwd_Bytes,Subflow_Bwd_Packets,Subflow_Bwd_Bytes,Init_Win_bytes_forward,Init_Win_bytes_backward,act_data_pkt_fwd,min_seg_size_forward,Active_Mean,Active_Std,Active_Max,Active_Min,Idle_Mean,Idle_Std,Idle_Max,Idle_Min,Label) values(247587, 443, 227, 2, 0, 12, 0, 6, 6, 6.0, 0.0, 0, 0, 0.0, 0.0, 52863.43612, 8810.572687, 227.0, 0.0, 227, 227, 227, 227.0, 0.0, 227, 227, 0, 0.0, 0.0, 0, 0, 0, 0, 0, 0, 40, 0, 8810.572687, 0.0, 6, 6, 6.0, 0.0, 0.0, 0, 0, 0, 0, 1, 0, 0, 0, 0, 9.0, 6.0, 0.0, 40, 0, 0, 0, 0, 0, 0, 2, 12, 0, 0, 65535, -1, 1, 20, 0.0, 0.0, 0, 0, 0.0, 0.0, 0, 0, \"BENIGN\");')"
   ]
  },
  {
   "cell_type": "code",
   "execution_count": null,
   "id": "a1d013d3",
   "metadata": {},
   "outputs": [],
   "source": [
    "session.execute('insert into data.data(serial,Destination_Port,Flow_Duration,Total_Fwd_Packets,Total_Backward_Packets,Total_Length_of_Fwd_Packets,Total_Length_of_Bwd_Packets,Fwd_Packet_Length_Max,Fwd_Packet_Length_Min,Fwd_Packet_Length_Mean,Fwd_Packet_Length_Std,Bwd_Packet_Length_Max,Bwd_Packet_Length_Min,Bwd_Packet_Length_Mean,Bwd_Packet_Length_Std,Flow_Bytes_s,Flow_Packets_s,Flow_IAT_Mean,Flow_IAT_Std,Flow_IAT_Max,Flow_IAT_Min,Fwd_IAT_Total,Fwd_IAT_Mean,Fwd_IAT_Std,Fwd_IAT_Max,Fwd_IAT_Min,Bwd_IAT_Total,Bwd_IAT_Mean,Bwd_IAT_Std,Bwd_IAT_Max,Bwd_IAT_Min,Fwd_PSH_Flags,Bwd_PSH_Flags,Fwd_URG_Flags,Bwd_URG_Flags,Fwd_Header_Length,Bwd_Header_Length,Fwd_Packets_s,Bwd_Packets_s,Min_Packet_Length,Max_Packet_Length,Packet_Length_Mean,Packet_Length_Std,Packet_Length_Variance,FIN_Flag_Count,SYN_Flag_Count,RST_Flag_Count,PSH_Flag_Count,ACK_Flag_Count,URG_Flag_Count,CWE_Flag_Count,ECE_Flag_Count,Down_Up_Ratio,Average_Packet_Size,Avg_Fwd_Segment_Size,Avg_Bwd_Segment_Size,Fwd_Header_Length_1,Fwd_Avg_Bytes_Bulk,Fwd_Avg_Packets_Bulk,Fwd_Avg_Bulk_Rate,Bwd_Avg_Bytes_Bulk,Bwd_Avg_Packets_Bulk,Bwd_Avg_Bulk_Rate,Subflow_Fwd_Packets,Subflow_Fwd_Bytes,Subflow_Bwd_Packets,Subflow_Bwd_Bytes,Init_Win_bytes_forward,Init_Win_bytes_backward,act_data_pkt_fwd,min_seg_size_forward,Active_Mean,Active_Std,Active_Max,Active_Min,Idle_Mean,Idle_Std,Idle_Max,Idle_Min,Label) values(212246, 53, 30619, 1, 1, 49, 129, 49, 49, 49.0, 0.0, 129, 129, 129.0, 0.0, 5813.383847, 65.31891963, 30619.0, 0.0, 30619, 30619, 0, 0.0, 0.0, 0, 0, 0, 0.0, 0.0, 0, 0, 0, 0, 0, 0, 20, 20, 32.65945981, 32.65945981, 49, 129, 75.66666667, 46.18802154, 2133.333333, 0, 0, 0, 0, 0, 0, 0, 0, 1, 113.5, 49.0, 129.0, 20, 0, 0, 0, 0, 0, 0, 1, 49, 1, 129, -1, -1, 0, 20, 0.0, 0.0, 0, 0, 0.0, 0.0, 0, 0, BENIGN);')"
   ]
  },
  {
   "cell_type": "code",
   "execution_count": null,
   "id": "8dd7c994",
   "metadata": {},
   "outputs": [],
   "source": [
    "pwd"
   ]
  },
  {
   "cell_type": "code",
   "execution_count": null,
   "id": "d91f6abf",
   "metadata": {},
   "outputs": [],
   "source": [
    "path = \"Training_rawfiles_validated/Good_Raw/\"\n",
    "for files in os.listdir(path):\n",
    "    df = pd.read_csv(path + files)\n",
    "    df.drop(columns=['Unnamed: 0'], inplace=True)\n"
   ]
  },
  {
   "cell_type": "code",
   "execution_count": null,
   "id": "fd482c1a",
   "metadata": {},
   "outputs": [],
   "source": [
    "empty_columns"
   ]
  },
  {
   "cell_type": "code",
   "execution_count": null,
   "id": "3e70c2f6",
   "metadata": {},
   "outputs": [],
   "source": [
    "import os\n",
    "path = \"Training_rawfiles_validated/Good_Raw/\"\n",
    "for files in os.listdir(path):\n",
    "    df = pd.read_csv(path + files)\n",
    "    #df.drop(columns=['Unnamed: 0'], inplace=True)\n",
    "\n",
    "    break\n",
    "empty_columns = []\n",
    "for i in df.columns:\n",
    "    if df[i].isin([0]).sum(axis=0) == 1500:\n",
    "        empty_columns.append(i)\n",
    "df = df.drop(columns=empty_columns)\n",
    "lst = [i for i in range(1,df.shape[0]+1)]\n",
    "df.insert(0, \"serial\", lst, True)\n",
    "#df.drop(columns= [\"Unnamed: 0.1\",\"Unnamed: 0.1\", \"Unnamed: 0.1.1\", \"Unnamed: 0.1.1.1\", \"Unnamed: 0.1.1.1.1\", \"Unnamed: 0.1.1.1.1.1\"],inplace=True)\n",
    "            \n",
    "\n",
    "\n",
    "\n",
    "query = \"\"\n",
    "for column in df.columns:\n",
    "    if column[0] == ' ':\n",
    "        column = column[1:]\n",
    "    column = column.replace(' ', '_')\n",
    "    column = column.replace('/', '_')\n",
    "    column = column.replace('.', '_')\n",
    "\n",
    "    if column == \"serial\":\n",
    "        query += column + \" decimal PRIMARY KEY,\"\n",
    "    elif column == \"Label\":\n",
    "        query += column + \" varchar\"\n",
    "    else:\n",
    "        query += column + \" decimal,\""
   ]
  },
  {
   "cell_type": "code",
   "execution_count": null,
   "id": "3d5a2983",
   "metadata": {},
   "outputs": [],
   "source": [
    "df"
   ]
  },
  {
   "cell_type": "code",
   "execution_count": null,
   "id": "2018e0df",
   "metadata": {},
   "outputs": [],
   "source": [
    "query"
   ]
  },
  {
   "cell_type": "code",
   "execution_count": null,
   "id": "a28097ba",
   "metadata": {},
   "outputs": [],
   "source": [
    "session.execute('CREATE TABLE data.data(' + query + ');').one()"
   ]
  },
  {
   "cell_type": "code",
   "execution_count": null,
   "id": "f30692a4",
   "metadata": {},
   "outputs": [],
   "source": [
    "path = \"Training_rawfiles_validated/Good_Raw/\"\n",
    "df = pd.read_csv(path + 'final data')\n",
    "empty_columns = []\n",
    "for i in df.columns:\n",
    "    if df[i].isin([0]).sum(axis=0) == 1500:\n",
    "        empty_columns.append(i)\n",
    "df.drop(columns = empty_columns,inplace=True)\n",
    "df.drop(columns=[\"Unnamed: 0\",\"Unnamed: 0.1\"],inplace = True)"
   ]
  },
  {
   "cell_type": "code",
   "execution_count": null,
   "id": "bb60bd4c",
   "metadata": {},
   "outputs": [],
   "source": [
    "df"
   ]
  },
  {
   "cell_type": "code",
   "execution_count": null,
   "id": "4ec265f1",
   "metadata": {},
   "outputs": [],
   "source": [
    "import pandas as pd\n",
    "import os\n",
    "import csv\n",
    "goodFilePath = path\n",
    "count_file_row = 0\n",
    "onlyfiles = [f for f in os.listdir(path)]\n",
    "path = \"Training_rawfiles_validated/Good_Raw/\"\n",
    "df = pd.read_csv(path + 'final data')\n",
    "empty_columns = []\n",
    "for i in df.columns:\n",
    "    if df[i].isin([0]).sum(axis=0) == 1500:\n",
    "        empty_columns.append(i)\n",
    "df.drop(columns = empty_columns,inplace=True)\n",
    "df.drop(columns=[\"Unnamed: 0\",\"Unnamed: 0.1\"],inplace=True)\n",
    "lst = [i for i in range(1,df.shape[0]+1)]\n",
    "df.insert(0, \"serial\", lst, True)\n",
    "for file in onlyfiles:\n",
    "\n",
    "\n",
    "    with open(goodFilePath + '/' + file, \"r\") as f:\n",
    "        next(f)\n",
    "        reader = csv.reader(f)\n",
    "\n",
    "        for line in reader:\n",
    "            \n",
    "            count_file_row += 1\n",
    "        \n",
    "            variable = line\n",
    "            variable = str(variable)\n",
    "            variable = variable.replace('[', '')\n",
    "            variable = variable.replace(']', '')\n",
    "            variable = variable.replace(\"'\", \"\")\n",
    "            variable = variable.replace(', ,',',')\n",
    "            \n",
    "            \n",
    "            query = 'insert into data.data('\n",
    "            for column in df.columns:\n",
    "                \n",
    "                if column[0] == ' ':\n",
    "                    column = column[1:]\n",
    "                \n",
    "                column = column.replace(' ', '_')\n",
    "                column = column.replace('/', '_')\n",
    "                column = column.replace('.', '_')\n",
    "                query = query + column+\",\"\n",
    "            query = query[:-1]\n",
    "            query = query + ') values({});'\n",
    "            query = query.format(\n",
    "                variable)\n",
    "            query\n",
    "            session.execute(query)\n"
   ]
  },
  {
   "cell_type": "code",
   "execution_count": null,
   "id": "60e3781c",
   "metadata": {},
   "outputs": [],
   "source": [
    "from cassandra.cluster import Cluster\n",
    "from cassandra.auth import PlainTextAuthProvider\n",
    "cloud_config = {\n",
    "    'secure_connect_bundle': r'C:\\Users\\Dell\\Downloads\\secure-connect-network-security.zip'\n",
    "}\n",
    "auth_provider = PlainTextAuthProvider('wMYGfEqsjxXldhDPlUXpiNAu',\n",
    "                                      'LLA4lR8g4bQOjrDXZQPO.IOchQublLQ4LArmJotwpSH13LhEnSkKQfBjaIwaMkEv-e6ftB,92p6yZ,'\n",
    "                                      'vZxZnoSK37OWQ.I.eUGaU7e1_3jUGUMQjltX2otmw9ZZ,7MF4A')\n",
    "cluster = Cluster(cloud=cloud_config, auth_provider=auth_provider)\n",
    "session = cluster.connect()"
   ]
  },
  {
   "cell_type": "code",
   "execution_count": null,
   "id": "9cb1a4a2",
   "metadata": {},
   "outputs": [],
   "source": [
    "query[:1492]"
   ]
  },
  {
   "cell_type": "code",
   "execution_count": null,
   "id": "15c1fd63",
   "metadata": {},
   "outputs": [],
   "source": [
    "path = \"Training_rawfiles_validated/Good_Raw/\"\n",
    "df = pd.read_csv(path + 'final data')\n",
    "for i in df.columns:\n",
    "    if df[i].isin([0]).sum(axis=0) == 1500:\n",
    "        empty_columns.append(i)\n",
    "df.drop(columns = empty_columns,inplace=True)\n",
    "df.drop(columns=[\"Unnamed: 0\",\"Unnamed: 0.1\"],inplace=True)\n",
    "lst = [i for i in range(1,df.shape[0]+1)]\n",
    "df.insert(0, \"serial\", lst, True)"
   ]
  },
  {
   "cell_type": "code",
   "execution_count": null,
   "id": "047eb9c3",
   "metadata": {},
   "outputs": [],
   "source": [
    "df"
   ]
  },
  {
   "cell_type": "code",
   "execution_count": null,
   "id": "effed1ee",
   "metadata": {},
   "outputs": [],
   "source": [
    "with open(goodFilePath + '/' + file, \"r+\") as f:\n",
    "    next(f)\n",
    "    reader = csv.reader(f)"
   ]
  },
  {
   "cell_type": "code",
   "execution_count": null,
   "id": "59710e99",
   "metadata": {},
   "outputs": [],
   "source": [
    "for i in range(df.shape[0]):\n",
    "    variable = str((df.iloc[i]).values).replace(' ',',')\n",
    "    variable = variable.replace('[', '')\n",
    "    variable = variable.replace(']', '')\n",
    "    variable"
   ]
  },
  {
   "cell_type": "code",
   "execution_count": null,
   "id": "12dca490",
   "metadata": {},
   "outputs": [],
   "source": [
    "len((df.iloc[1]).values)"
   ]
  },
  {
   "cell_type": "code",
   "execution_count": null,
   "id": "45fc68b9",
   "metadata": {},
   "outputs": [],
   "source": [
    "import pandas as pd\n",
    "import os\n",
    "empty_columns = []\n",
    "path = \"Training_rawfiles_validated/Good_Raw/\"\n",
    "df = pd.read_csv(path + 'final data')\n",
    "for i in df.columns:\n",
    "    if df[i].isin([0]).sum(axis=0) == 1500:\n",
    "        empty_columns.append(i)\n",
    "df.drop(columns = empty_columns,inplace=True)\n",
    "df.drop(columns=[\"Unnamed: 0\",\"Unnamed: 0.1\"],inplace=True)\n",
    "lst = [i for i in range(1,df.shape[0]+1)]\n",
    "df.insert(0, \"serial\", lst, True)\n",
    "\n",
    "for i in range(df.shape[0]):\n",
    "    query = 'insert into data.data('\n",
    "    for column in df.columns:\n",
    "\n",
    "        if column[0] == ' ':\n",
    "            column = column[1:]\n",
    "\n",
    "        column = column.replace(' ', '_')\n",
    "        column = column.replace('/', '_')\n",
    "        column = column.replace('.', '_')\n",
    "        query = query + column+\",\"\n",
    "        \n",
    "    query = query[:-1]\n",
    "    query = query + ') values({});'\n",
    "\n",
    "    variable = str((df.iloc[i]).values).replace(' ',',')\n",
    "    variable = variable.replace('[', '')\n",
    "    variable = variable.replace(']', '')\n",
    "    query = query.format(variable)\n",
    "    session.execute(query)\n",
    "\n"
   ]
  },
  {
   "cell_type": "code",
   "execution_count": null,
   "id": "29c622b3",
   "metadata": {},
   "outputs": [],
   "source": [
    "query = 'insert into data.data('\n",
    "for column in df.columns:\n",
    "\n",
    "    if column[0] == ' ':\n",
    "        column = column[1:]\n",
    "\n",
    "    column = column.replace(' ', '_')\n",
    "    column = column.replace('/', '_')\n",
    "    column = column.replace('.', '_')\n",
    "    query = query + column+\",\"\n",
    "query = query[:-1]\n",
    "query = query + ') values({});'"
   ]
  },
  {
   "cell_type": "code",
   "execution_count": null,
   "id": "53f44f88",
   "metadata": {},
   "outputs": [],
   "source": [
    "query"
   ]
  },
  {
   "cell_type": "code",
   "execution_count": null,
   "id": "b25b3bf0",
   "metadata": {},
   "outputs": [],
   "source": [
    "variable = str((df.iloc[2]).values).replace(' ',',')\n",
    "variable = variable.replace('[', '')\n",
    "variable = variable.replace(']', '')\n",
    "print(variable)\n",
    "query = query.format(variable)\n",
    "print(\"-------------\"+query)"
   ]
  },
  {
   "cell_type": "code",
   "execution_count": null,
   "id": "c7aefec5",
   "metadata": {},
   "outputs": [],
   "source": [
    "session = cluster.connect()\n",
    "count_file_row = 0\n",
    "empty_columns = []\n",
    "path = \"Training_rawfiles_validated/Good_Raw/\"\n",
    "df = pd.read_csv(path + 'final data')\n",
    "for i in df.columns:\n",
    "    if df[i].isin([0]).sum(axis=0) == 1500:\n",
    "        empty_columns.append(i)\n",
    "df.drop(columns=empty_columns, inplace=True)\n",
    "df.drop(columns=[\"Unnamed: 0\", \"Unnamed: 0.1\",\"Unnamed: 0.1.1\"], inplace=True)\n",
    "lst = [i for i in range(1, df.shape[0] + 1)]\n",
    "df.insert(0, \"serial\", lst, True)\n",
    "\n",
    "for i in range(df.shape[0]):\n",
    "    count_file_row += 1\n",
    "    query = 'insert into data.data('\n",
    "    for column in df.columns:\n",
    "\n",
    "        if column[0] == ' ':\n",
    "            column = column[1:]\n",
    "\n",
    "        column = column.replace(' ', '_')\n",
    "        column = column.replace('/', '_')\n",
    "        column = column.replace('.', '_')\n",
    "        query = query + column + \",\"\n",
    "\n",
    "    query = query[:-1]\n",
    "    query = query + ') values({});'\n",
    "\n",
    "    variable = str((df.iloc[i]).values).replace(' ', ',')\n",
    "    variable = variable.replace('[', '')\n",
    "    variable = variable.replace(']', '')\n",
    "    query = query.format(variable)\n",
    "    session.execute(query)\n"
   ]
  },
  {
   "cell_type": "code",
   "execution_count": null,
   "id": "bb320402",
   "metadata": {},
   "outputs": [],
   "source": [
    "query"
   ]
  },
  {
   "cell_type": "code",
   "execution_count": null,
   "id": "9699c668",
   "metadata": {},
   "outputs": [],
   "source": [
    "df"
   ]
  },
  {
   "cell_type": "code",
   "execution_count": null,
   "id": "a6135313",
   "metadata": {},
   "outputs": [],
   "source": [
    "import pandas as pd\n",
    "path = \"Training_rawfiles_validated/Good_Raw/\"\n",
    "df = pd.read_csv(path + 'final data')"
   ]
  },
  {
   "cell_type": "code",
   "execution_count": null,
   "id": "224852eb",
   "metadata": {},
   "outputs": [],
   "source": [
    "df.drop(columns=[\"Unnamed: 0\",\"Unnamed: 0.1\",\"Unnamed: 0.1.1\",\"Unnamed: 0.1.1.1\",\"Unnamed: 0.1.1.1.1\",\"Unnamed: 0.1.1.1.1.1\"],inplace=True)"
   ]
  },
  {
   "cell_type": "code",
   "execution_count": null,
   "id": "27bc8be5",
   "metadata": {},
   "outputs": [],
   "source": [
    "df"
   ]
  },
  {
   "cell_type": "code",
   "execution_count": null,
   "id": "5029abf1",
   "metadata": {},
   "outputs": [],
   "source": [
    "df.to_csv('abc',header=True,index=False)"
   ]
  },
  {
   "cell_type": "code",
   "execution_count": null,
   "id": "a71ed994",
   "metadata": {},
   "outputs": [],
   "source": [
    "pd.read_csv(\"abc\")"
   ]
  },
  {
   "cell_type": "code",
   "execution_count": null,
   "id": "2b81814a",
   "metadata": {},
   "outputs": [],
   "source": [
    "session = cluster.connect()\n",
    "count_file_row = 0\n",
    "empty_columns = []\n",
    "path = \"Training_rawfiles_validated/Good_Raw/\"\n",
    "df = pd.read_csv(path + 'final data')\n",
    "for i in df.columns:\n",
    "    if df[i].isin([0]).sum(axis=0) == 1500:\n",
    "        empty_columns.append(i)\n",
    "df.drop(columns=empty_columns, inplace=True)\n",
    "df.drop(columns=[\"Unnamed: 0\", \"Unnamed: 0.1\", \"Unnamed: 0.1.1\", \"Unnamed: 0.1.1.1\", \"Unnamed: 0.1.1.1.1\",\n",
    "                 \"Unnamed: 0.1.1.1.1.1\"], inplace=True)\n",
    "lst = [i for i in range(1, df.shape[0] + 1)]\n",
    "df.insert(0, \"serial\", lst, True)\n",
    "\n",
    "for i in range(df.shape[0]):\n",
    "    count_file_row += 1\n",
    "    query = 'insert into data.data('\n",
    "    for column in df.columns:\n",
    "\n",
    "        if column[0] == ' ':\n",
    "            column = column[1:]\n",
    "\n",
    "        column = column.replace(' ', '_')\n",
    "        column = column.replace('/', '_')\n",
    "        column = column.replace('.', '_')\n",
    "        query = query + column + \",\"\n",
    "    \n",
    "    query = query[:-1]\n",
    "    query = query + ') values({});'\n",
    "\n",
    "    variable = str((df.iloc[i]).values).replace(' ', ',')\n",
    "    variable = variable.replace('[', '')\n",
    "    variable = variable.replace(']', '')\n",
    "    query = query.format(variable)\n",
    "    query = query.replace(\"inf\", \"0\")\n",
    "    session.execute(query)"
   ]
  },
  {
   "cell_type": "code",
   "execution_count": null,
   "id": "1a3261d4",
   "metadata": {},
   "outputs": [],
   "source": [
    "query"
   ]
  },
  {
   "cell_type": "code",
   "execution_count": null,
   "id": "9bd32abb",
   "metadata": {},
   "outputs": [],
   "source": [
    "query[:1190]"
   ]
  },
  {
   "cell_type": "code",
   "execution_count": null,
   "id": "6e2c33a0",
   "metadata": {},
   "outputs": [],
   "source": [
    "type(df.iloc[1259].values[-1])"
   ]
  },
  {
   "cell_type": "code",
   "execution_count": null,
   "id": "36d5687e",
   "metadata": {},
   "outputs": [],
   "source": [
    "df.iloc[1259].values"
   ]
  },
  {
   "cell_type": "code",
   "execution_count": null,
   "id": "69249a71",
   "metadata": {},
   "outputs": [],
   "source": [
    "\"inf\" in query\n"
   ]
  },
  {
   "cell_type": "code",
   "execution_count": null,
   "id": "a8d39ee1",
   "metadata": {},
   "outputs": [],
   "source": [
    "query = query.replace(\"inf\",\"0\")"
   ]
  },
  {
   "cell_type": "code",
   "execution_count": null,
   "id": "62a547c6",
   "metadata": {},
   "outputs": [],
   "source": [
    "pd.set_option('max_columns', None) \n",
    "pd.read_csv(r\"E:\\full stack\\internship\\network security\\Training_FileFromDB\\InputFile.csv\")"
   ]
  },
  {
   "cell_type": "code",
   "execution_count": null,
   "id": "ba728661",
   "metadata": {},
   "outputs": [],
   "source": [
    "fileFromDb = 'Training_FileFromDB/'\n",
    "fileName = 'InputFile.csv'\n",
    "log_file = open(\"Training_Logs/ExportToCsv.txt\", 'a+')\n",
    "session = cluster.connect()\n",
    "\n",
    "if not os.path.isdir(fileFromDb):\n",
    "    os.makedirs(fileFromDb)\n",
    "\n",
    "with open(fileFromDb + fileName, 'w',encoding='utf-8') as csvFile:\n",
    "    for column_name in session.execute(\"SELECT * FROM data.data;\").column_names:\n",
    "        csvFile.writelines(column_name + ',')\n",
    "    csvFile.writelines('\\n')\n",
    "    for i in session.execute(\"SELECT * FROM data.data;\").all():\n",
    "        print(i)\n",
    "        for j in i:\n",
    "            j = str(j)\n",
    "            print(j)\n",
    "            csvFile.writelines(j + ',')\n",
    "        csvFile.writelines('\\n')"
   ]
  },
  {
   "cell_type": "code",
   "execution_count": null,
   "id": "03fcf040",
   "metadata": {},
   "outputs": [],
   "source": [
    "for i in session.execute(\"SELECT * FROM data.data;\").all():\n",
    "    for j in i:\n",
    "        print(type(j))"
   ]
  },
  {
   "cell_type": "code",
   "execution_count": null,
   "id": "5b6d4345",
   "metadata": {},
   "outputs": [],
   "source": [
    "path = r\"E:\\full stack\\internship\\network security\\dataset/\"\n",
    "for file in os.listdir(path):\n",
    "    print(file)\n",
    "    df = pd.read_csv(path + file)\n",
    "    break"
   ]
  },
  {
   "cell_type": "code",
   "execution_count": null,
   "id": "12b2772a",
   "metadata": {},
   "outputs": [],
   "source": [
    "df = pd.read_csv(r\"E:\\full stack\\internship\\network security\\dataset/Wednesday-WorkingHours.pcap_ISCX.csv\")\n",
    "lst = []\n",
    "for i in df[' Label']:\n",
    "    i = str(i)\n",
    "    i = i.replace(\" \",\"_\")\n",
    "    if \"�\" in i:\n",
    "        i =  i.replace(\"_�\",'')\n",
    "    lst.append(i)\n",
    "    \n",
    "df[' Label'] = lst\n",
    "df[' Label'].value_counts()\n",
    "pwd = os.getcwd()\n",
    "os.chdir(path)\n",
    "\n",
    "df.to_csv(\"Wednesday-WorkingHours.pcap_ISCX.csv\")\n"
   ]
  },
  {
   "cell_type": "code",
   "execution_count": null,
   "id": "e01cfbc9",
   "metadata": {},
   "outputs": [],
   "source": [
    "df = pd.read_csv(r\"E:\\full stack\\internship\\network security\\dataset/Wednesday-WorkingHours.pcap_ISCX.csv\")\n",
    "df[' Label'].value_counts()"
   ]
  },
  {
   "cell_type": "code",
   "execution_count": null,
   "id": "718bf053",
   "metadata": {},
   "outputs": [],
   "source": [
    "df = pd.read_csv(r\"E:\\full stack\\internship\\network security\\dataset/Thursday-WorkingHours-Morning-WebAttacks.pcap_ISCX.csv\")\n",
    "df[' Label'].value_counts()"
   ]
  },
  {
   "cell_type": "code",
   "execution_count": null,
   "id": "6f0619fe",
   "metadata": {},
   "outputs": [],
   "source": [
    "import os\n",
    "import pandas as pd\n",
    "os.chdir('E:\\\\full stack\\\\internship\\\\network security')\n",
    "directory = os.getcwd()\n",
    "\n",
    "path = \"/Training_rawfiles_validated/Good_Raw/\"\n",
    "\n",
    "df = pd.DataFrame()\n",
    "os.chdir(directory + path)\n",
    "\n",
    "for i in os.listdir():\n",
    "    df = pd.concat([df, pd.read_csv(i)])\n",
    "\n",
    "lst = df[\" Label\"].unique()\n",
    "df1 = pd.DataFrame()\n",
    "\n",
    "for i in lst:\n",
    "    df1 = pd.concat([df1, df[df[\" Label\"] == i].sample(100, replace=True)])\n",
    "\n",
    "\n",
    "os.chdir(directory)\n",
    "if 'Training_rawfiles_validated' not in os.listdir():\n",
    "    os.mkdir('Training_rawfiles_validated')\n",
    "\n",
    "os.chdir('Training_rawfiles_validated')\n",
    "if 'Good_Raw' not in os.listdir():\n",
    "    os.mkdir('Good_Raw')\n",
    "else:\n",
    "    shutil.rmtree('Good_Raw')\n",
    "    os.makedirs('Good_Raw')\n",
    "\n",
    "os.chdir('Good_Raw')\n",
    "# empty_columns = []\n",
    "# for i in df1.columns:\n",
    "#     if df1[i].isin([0]).sum(axis=0) == 1500:\n",
    "#         empty_columns.append(i)\n",
    "# df1 = df1.drop(columns=empty_columns)\n",
    "df1.to_csv(\"final data\", header=True, index=False)\n",
    "os.chdir(directory)"
   ]
  },
  {
   "cell_type": "code",
   "execution_count": null,
   "id": "e0021d19",
   "metadata": {},
   "outputs": [],
   "source": [
    " df[df[\" Label\"] == \"nan\"].sample(100, replace=True)"
   ]
  },
  {
   "cell_type": "code",
   "execution_count": null,
   "id": "b4b1bf29",
   "metadata": {},
   "outputs": [],
   "source": [
    "lst"
   ]
  },
  {
   "cell_type": "code",
   "execution_count": null,
   "id": "19f2bc8e",
   "metadata": {},
   "outputs": [],
   "source": [
    "df1"
   ]
  },
  {
   "cell_type": "code",
   "execution_count": null,
   "id": "5a4f1034",
   "metadata": {},
   "outputs": [],
   "source": [
    "path = \"/Training_rawfiles_validated/Good_Raw/\"\n",
    "\n",
    "df = pd.DataFrame()\n",
    "os.chdir(directory + path)\n",
    "\n",
    "for i in os.listdir():\n",
    "    df = pd.read_csv(i)\n",
    "    print(i)\n",
    "    print(df[\" Label\"]."
   ]
  },
  {
   "cell_type": "code",
   "execution_count": null,
   "id": "74c5748d",
   "metadata": {},
   "outputs": [],
   "source": [
    "import os\n",
    "import pandas as pd\n",
    "df = pd.read_csv(r\"Training_rawfiles_validated/Good_Raw/Tuesday-WorkingHours.pcap_ISCX.csv\")\n",
    "df[\" Label\"].value_counts()"
   ]
  },
  {
   "cell_type": "code",
   "execution_count": null,
   "id": "81ec8ce7",
   "metadata": {},
   "outputs": [],
   "source": [
    "df[\" Label\"].unique()"
   ]
  },
  {
   "cell_type": "code",
   "execution_count": null,
   "id": "f25d8392",
   "metadata": {},
   "outputs": [],
   "source": [
    "\"nan\" in df[' Label']"
   ]
  },
  {
   "cell_type": "code",
   "execution_count": null,
   "id": "8285bdb6",
   "metadata": {},
   "outputs": [],
   "source": [
    "df.isnull().sum()"
   ]
  },
  {
   "cell_type": "code",
   "execution_count": null,
   "id": "58d06cb4",
   "metadata": {},
   "outputs": [],
   "source": [
    "df[\" Label\"].fillna(df[\" Label\"].mode()[0], inplace = True)"
   ]
  },
  {
   "cell_type": "code",
   "execution_count": null,
   "id": "6db230ed",
   "metadata": {},
   "outputs": [],
   "source": [
    "df[\" Label\"].mode()[0]"
   ]
  },
  {
   "cell_type": "code",
   "execution_count": null,
   "id": "680f3a8b",
   "metadata": {},
   "outputs": [],
   "source": [
    "os.chdir('E:\\\\full stack\\\\internship\\\\network security')"
   ]
  },
  {
   "cell_type": "code",
   "execution_count": null,
   "id": "f82a048c",
   "metadata": {},
   "outputs": [],
   "source": [
    "os.chdir(\"dataset\")"
   ]
  },
  {
   "cell_type": "code",
   "execution_count": null,
   "id": "9093dc7b",
   "metadata": {},
   "outputs": [],
   "source": [
    "df.to_csv(\"Tuesday-WorkingHours.pcap_ISCX.csv\",header=True,index = False)"
   ]
  },
  {
   "cell_type": "code",
   "execution_count": null,
   "id": "9cc44625",
   "metadata": {},
   "outputs": [],
   "source": [
    "df = pd.read_csv(\"Tuesday-WorkingHours.pcap_ISCX.csv\")"
   ]
  },
  {
   "cell_type": "code",
   "execution_count": null,
   "id": "d71af783",
   "metadata": {},
   "outputs": [],
   "source": [
    "df"
   ]
  },
  {
   "cell_type": "code",
   "execution_count": null,
   "id": "9b88436a",
   "metadata": {},
   "outputs": [],
   "source": [
    "os.chdir(\"E:\\\\full stack\\\\internship\\\\network security\")"
   ]
  },
  {
   "cell_type": "code",
   "execution_count": null,
   "id": "12077f4d",
   "metadata": {},
   "outputs": [],
   "source": [
    "from cassandra.cluster import Cluster\n",
    "from cassandra.auth import PlainTextAuthProvider\n",
    "\n",
    "cloud_config = {\n",
    "    'secure_connect_bundle': r'C:\\Users\\Dell\\Downloads\\secure-connect-network-security.zip'\n",
    "}\n",
    "auth_provider = PlainTextAuthProvider('wMYGfEqsjxXldhDPlUXpiNAu',\n",
    "                                      'LLA4lR8g4bQOjrDXZQPO.IOchQublLQ4LArmJotwpSH13LhEnSkKQfBjaIwaMkEv-e6ftB,92p6yZ,'\n",
    "                                      'vZxZnoSK37OWQ.I.eUGaU7e1_3jUGUMQjltX2otmw9ZZ,7MF4A')\n",
    "cluster = Cluster(cloud=cloud_config, auth_provider=auth_provider)\n",
    "\n",
    "session = cluster.connect()\n"
   ]
  },
  {
   "cell_type": "code",
   "execution_count": null,
   "id": "ca222c89",
   "metadata": {},
   "outputs": [],
   "source": [
    "count_file_row = 0\n",
    "empty_columns = []\n",
    "path = \"Training_rawfiles_validated/Good_Raw/\"\n",
    "df = pd.read_csv(path + 'final data')\n",
    "for i in df.columns:\n",
    "    if df[i].isin([0]).sum(axis=0) == 1500:\n",
    "        empty_columns.append(i)\n"
   ]
  },
  {
   "cell_type": "code",
   "execution_count": null,
   "id": "f065874f",
   "metadata": {},
   "outputs": [],
   "source": [
    "df"
   ]
  },
  {
   "cell_type": "code",
   "execution_count": null,
   "id": "7df8e07b",
   "metadata": {},
   "outputs": [],
   "source": [
    "df.drop(columns=empty_columns, inplace=True)\n",
    "df.drop(columns=[\"Unnamed: 0\"], inplace=True)\n",
    "lst = [i for i in range(1, df.shape[0] + 1)]\n",
    "df.insert(0, \"serial\", lst, True)\n",
    "\n"
   ]
  },
  {
   "cell_type": "code",
   "execution_count": null,
   "id": "4e267119",
   "metadata": {},
   "outputs": [],
   "source": [
    "for i in range(df.shape[0]):\n",
    "    count_file_row += 1\n",
    "    query = 'insert into data.data('\n",
    "    for column in df.columns:\n",
    "\n",
    "        if column[0] == ' ':\n",
    "            column = column[1:]\n",
    "\n",
    "        column = column.replace(' ', '_')\n",
    "        column = column.replace('/', '_')\n",
    "        column = column.replace('.', '_')\n",
    "        query = query + column + \",\"\n",
    "\n",
    "    query = query[:-1]\n",
    "    query = query + ') values({});'\n",
    "\n",
    "    variable = str((df.iloc[i]).values).replace(' ', ',')\n",
    "    variable = variable.replace('[', '')\n",
    "    variable = variable.replace(']', '')\n",
    "    query = query.format(variable)\n",
    "    query = query.replace(\"inf\", \"0\")\n",
    "    session.execute(query)"
   ]
  },
  {
   "cell_type": "code",
   "execution_count": null,
   "id": "0780f6a7",
   "metadata": {},
   "outputs": [],
   "source": [
    "df"
   ]
  },
  {
   "cell_type": "code",
   "execution_count": null,
   "id": "5df233d0",
   "metadata": {},
   "outputs": [],
   "source": [
    "df.isnull().sum()"
   ]
  },
  {
   "cell_type": "code",
   "execution_count": null,
   "id": "5738b515",
   "metadata": {},
   "outputs": [],
   "source": [
    "for i in df.columns:\n",
    "    df[i].fillna(df[i].mode()[0], inplace = True)"
   ]
  },
  {
   "cell_type": "code",
   "execution_count": null,
   "id": "4d0bcdc1",
   "metadata": {},
   "outputs": [],
   "source": [
    "pwd"
   ]
  },
  {
   "cell_type": "code",
   "execution_count": null,
   "id": "baf6498e",
   "metadata": {},
   "outputs": [],
   "source": [
    "df = pd.read_csv(r\"E:\\full stack\\internship\\network security\\Training_FileFromDB\\InputFile.csv\")"
   ]
  },
  {
   "cell_type": "code",
   "execution_count": null,
   "id": "d3dbe0cd",
   "metadata": {},
   "outputs": [],
   "source": [
    "df"
   ]
  },
  {
   "cell_type": "code",
   "execution_count": null,
   "id": "149d4521",
   "metadata": {},
   "outputs": [],
   "source": [
    "df['label']"
   ]
  },
  {
   "cell_type": "code",
   "execution_count": null,
   "id": "987a5c26",
   "metadata": {},
   "outputs": [],
   "source": [
    "training_file = 'Training_FileFromDB/InputFile.csv'"
   ]
  },
  {
   "cell_type": "code",
   "execution_count": null,
   "id": "ca463b31",
   "metadata": {},
   "outputs": [],
   "source": [
    "import pandas as pd\n",
    "data = pd.read_csv(training_file)"
   ]
  },
  {
   "cell_type": "code",
   "execution_count": null,
   "id": "e6a3577f",
   "metadata": {},
   "outputs": [],
   "source": [
    "data.isnull().sum()"
   ]
  },
  {
   "cell_type": "code",
   "execution_count": null,
   "id": "a527f440",
   "metadata": {},
   "outputs": [],
   "source": [
    "data.describe()['serial']['std']"
   ]
  },
  {
   "cell_type": "code",
   "execution_count": null,
   "id": "be2e31ec",
   "metadata": {},
   "outputs": [],
   "source": [
    "data.label"
   ]
  },
  {
   "cell_type": "code",
   "execution_count": null,
   "id": "df08c3e2",
   "metadata": {},
   "outputs": [],
   "source": [
    "from sklearn.decomposition import PCA\n",
    "pca = PCA() \n",
    "from sklearn.preprocessing import StandardScaler\n",
    "scaler = StandardScaler()"
   ]
  },
  {
   "cell_type": "code",
   "execution_count": null,
   "id": "a67e5d29",
   "metadata": {},
   "outputs": [],
   "source": [
    "data1 = data.drop(columns=['label',\"Unnamed: 68\"])\n",
    "data1 = scaler.fit_transform(data1)\n",
    "pca.fit_transform(data1)"
   ]
  },
  {
   "cell_type": "code",
   "execution_count": null,
   "id": "414fe05c",
   "metadata": {},
   "outputs": [],
   "source": [
    "pca.explained_variance_ratio_"
   ]
  },
  {
   "cell_type": "code",
   "execution_count": null,
   "id": "4a4bdec8",
   "metadata": {},
   "outputs": [],
   "source": [
    "import numpy as np\n",
    "import matplotlib.pyplot as plt\n",
    "plt.plot(np.cumsum(pca.explained_variance_ratio_))\n"
   ]
  },
  {
   "cell_type": "code",
   "execution_count": null,
   "id": "20d3a1a0",
   "metadata": {},
   "outputs": [],
   "source": [
    "pca = PCA(n_components=20)\n",
    "df = pca.fit_transform(data1)"
   ]
  },
  {
   "cell_type": "code",
   "execution_count": null,
   "id": "a180ebf4",
   "metadata": {},
   "outputs": [],
   "source": [
    "pd.DataFrame(df)"
   ]
  },
  {
   "cell_type": "code",
   "execution_count": null,
   "id": "b5238dac",
   "metadata": {},
   "outputs": [],
   "source": [
    "class scaled_pca:\n",
    "    def __init__(self):\n",
    "        self.path = \"Training_FileFromDB/InputFile.csv\"\n",
    "        self.scaler = StandardScaler()\n",
    "        self.pca = PCA(n_components=20)\n",
    "    def scaled_pca(self):\n",
    "        df = pd.read_csv(self.path)\n",
    "        df_1 = df.drop(columns=[\"label\", 'Unnamed: 68'])\n",
    "        df_scaled = self.scaler.fit_transform(df_1)\n",
    "        df_pca = self.pca.fit_transform(df_scaled)\n",
    "        df_pca = pd.DataFrame(df_pca)\n",
    "        df_pca.to_csv(\"PCA_Data/data.csv\")"
   ]
  },
  {
   "cell_type": "code",
   "execution_count": null,
   "id": "652f6aac",
   "metadata": {},
   "outputs": [],
   "source": [
    "sc = scaled_pca()"
   ]
  },
  {
   "cell_type": "code",
   "execution_count": null,
   "id": "be2c0db6",
   "metadata": {},
   "outputs": [],
   "source": [
    "sc.scaled_pca()"
   ]
  },
  {
   "cell_type": "code",
   "execution_count": null,
   "id": "0f1db915",
   "metadata": {},
   "outputs": [],
   "source": [
    "data.to_csv"
   ]
  },
  {
   "cell_type": "code",
   "execution_count": null,
   "id": "ed768949",
   "metadata": {},
   "outputs": [],
   "source": [
    "data"
   ]
  },
  {
   "cell_type": "code",
   "execution_count": null,
   "id": "8cd2ccef",
   "metadata": {},
   "outputs": [],
   "source": [
    "from xgboost import XGBClassifier"
   ]
  },
  {
   "cell_type": "code",
   "execution_count": null,
   "id": "ca2b662c",
   "metadata": {},
   "outputs": [],
   "source": [
    "xg = XGBClassifier(objective='multi:softmax',num_class = 15)"
   ]
  },
  {
   "cell_type": "code",
   "execution_count": null,
   "id": "727bbf09",
   "metadata": {},
   "outputs": [],
   "source": [
    "xv = xg.fit(data.drop(columns=[\"Unnamed: 68\",\"label\"]),data['label'])"
   ]
  },
  {
   "cell_type": "code",
   "execution_count": null,
   "id": "eed26768",
   "metadata": {},
   "outputs": [],
   "source": [
    "lst=[]\n",
    "for i in data.loc[0]:\n",
    "    if type(i) == np.int64 or type(i) ==np.float64:\n",
    "        lst.append(i)"
   ]
  },
  {
   "cell_type": "code",
   "execution_count": null,
   "id": "87981433",
   "metadata": {},
   "outputs": [],
   "source": [
    "len(lst)"
   ]
  },
  {
   "cell_type": "code",
   "execution_count": null,
   "id": "4fe74d3a",
   "metadata": {},
   "outputs": [],
   "source": [
    "xv.predict(pd.DataFrame(d).T)"
   ]
  },
  {
   "cell_type": "code",
   "execution_count": null,
   "id": "1dbc38ac",
   "metadata": {},
   "outputs": [],
   "source": [
    "pd.DataFrame(d)"
   ]
  },
  {
   "cell_type": "code",
   "execution_count": null,
   "id": "341cc2ba",
   "metadata": {},
   "outputs": [],
   "source": [
    "pd.DataFrame(data.iloc[0]).T"
   ]
  },
  {
   "cell_type": "code",
   "execution_count": null,
   "id": "a40053ec",
   "metadata": {},
   "outputs": [],
   "source": [
    "d = data.loc[0]"
   ]
  },
  {
   "cell_type": "code",
   "execution_count": null,
   "id": "0f05f555",
   "metadata": {},
   "outputs": [],
   "source": [
    "d=d[0:-1]"
   ]
  },
  {
   "cell_type": "code",
   "execution_count": null,
   "id": "74feb3bf",
   "metadata": {},
   "outputs": [],
   "source": [
    "d= d.drop(\"label\")"
   ]
  },
  {
   "cell_type": "code",
   "execution_count": null,
   "id": "49e494af",
   "metadata": {},
   "outputs": [],
   "source": [
    "d"
   ]
  },
  {
   "cell_type": "code",
   "execution_count": null,
   "id": "45a3334c",
   "metadata": {},
   "outputs": [],
   "source": [
    "data"
   ]
  },
  {
   "cell_type": "code",
   "execution_count": null,
   "id": "8adddee0",
   "metadata": {},
   "outputs": [],
   "source": [
    "from sklearn.ensemble import RandomForestClassifier"
   ]
  },
  {
   "cell_type": "code",
   "execution_count": null,
   "id": "53ed23f6",
   "metadata": {},
   "outputs": [],
   "source": [
    "rand = RandomForestClassifier()"
   ]
  },
  {
   "cell_type": "code",
   "execution_count": null,
   "id": "6937827b",
   "metadata": {},
   "outputs": [],
   "source": [
    "rands = rand.fit(data.drop(columns=[\"Unnamed: 68\",\"label\"]),data['label'])"
   ]
  },
  {
   "cell_type": "code",
   "execution_count": null,
   "id": "b5b69baa",
   "metadata": {},
   "outputs": [],
   "source": [
    "rands.predict(pd.DataFrame(d).T)"
   ]
  },
  {
   "cell_type": "code",
   "execution_count": null,
   "id": "bdefd5da",
   "metadata": {},
   "outputs": [],
   "source": [
    "data['label'].unique()"
   ]
  },
  {
   "cell_type": "code",
   "execution_count": null,
   "id": "e93168d7",
   "metadata": {},
   "outputs": [],
   "source": [
    "from sklearn.model_selection import train_test_split\n",
    "x = data.drop(columns=['label','Unnamed: 68'])\n",
    "y = data.label\n",
    "x_train,x_test,y_train,y_test = train_test_split(x,y,test_size=.25)\n"
   ]
  },
  {
   "cell_type": "code",
   "execution_count": null,
   "id": "9cf89e5f",
   "metadata": {},
   "outputs": [],
   "source": [
    "xg = XGBClassifier(objective='multi:softmax')"
   ]
  },
  {
   "cell_type": "code",
   "execution_count": null,
   "id": "71d8a5ef",
   "metadata": {},
   "outputs": [],
   "source": [
    "xg.fit(x_train,y_train)"
   ]
  },
  {
   "cell_type": "code",
   "execution_count": null,
   "id": "b4ee8c6c",
   "metadata": {},
   "outputs": [],
   "source": [
    "from sklearn.metrics import roc_auc_score,accuracy_score"
   ]
  },
  {
   "cell_type": "code",
   "execution_count": null,
   "id": "5fc4ce59",
   "metadata": {},
   "outputs": [],
   "source": [
    "accuracy_score(xg.predict(x_test),y_test)"
   ]
  },
  {
   "cell_type": "code",
   "execution_count": null,
   "id": "a53025dc",
   "metadata": {},
   "outputs": [],
   "source": [
    "xg.predict(x_test)"
   ]
  },
  {
   "cell_type": "code",
   "execution_count": null,
   "id": "cbadb2cb",
   "metadata": {},
   "outputs": [],
   "source": [
    "y_test"
   ]
  },
  {
   "cell_type": "code",
   "execution_count": null,
   "id": "dd553642",
   "metadata": {},
   "outputs": [],
   "source": [
    "from sklearn.preprocessing import StandardScaler\n",
    "from sklearn.decomposition import PCA\n",
    "import pandas as pd\n",
    "from logger.log_file import logger\n",
    "\n",
    "f = open(\"Training_Logs/pca.txt\", 'a+')\n",
    "class scaled_pca:\n",
    "    def __init__(self, data):\n",
    "        self.data = data\n",
    "        self.logger = logger()\n",
    "        self.scaler = StandardScaler()\n",
    "        self.pca = PCA(n_components=20)\n",
    "    def scaled_pca(self):\n",
    "    \n",
    "#         self.data = pd.read_csv(self.data)\n",
    "        self.logger.log(f, \"data read successful\")\n",
    "        self.data = self.data.drop(columns=[\"label\", 'Unnamed: 68'])\n",
    "        self.logger.log(f, \"column drop successful\")\n",
    "        self.data = self.scaler.fit_transform(self.data)\n",
    "        self.logger.log(f, \"data scale successful\")\n",
    "        self.data = self.pca.fit_transform(self.data)\n",
    "        self.logger.log(f, \"data pca successful\")\n",
    "        self.data = pd.DataFrame(self.data)\n",
    "        self.logger.log(f, \"dataframe successful\")\n",
    "    \n",
    "        return self.scaler, self.pca, self.data\n"
   ]
  },
  {
   "cell_type": "code",
   "execution_count": null,
   "id": "0766f4d5",
   "metadata": {},
   "outputs": [],
   "source": [
    "sc= scaled_pca(data)"
   ]
  },
  {
   "cell_type": "code",
   "execution_count": null,
   "id": "e272d606",
   "metadata": {},
   "outputs": [],
   "source": [
    "s,p,d = sc.scaled_pca()"
   ]
  },
  {
   "cell_type": "code",
   "execution_count": null,
   "id": "eba1e06c",
   "metadata": {},
   "outputs": [],
   "source": [
    "pwd"
   ]
  },
  {
   "cell_type": "code",
   "execution_count": null,
   "id": "a10a690f",
   "metadata": {},
   "outputs": [],
   "source": [
    "lst = df[\" Label\"].unique()\n",
    "df1 = pd.DataFrame()\n",
    "for i in lst:\n",
    "    df1 = pd.concat([df1,df[df[\" Label\"]==i].sample(15,replace=True)])"
   ]
  },
  {
   "cell_type": "code",
   "execution_count": null,
   "id": "e7e29443",
   "metadata": {},
   "outputs": [],
   "source": [
    "import pandas as pd\n",
    "import os\n",
    "df = pd.DataFrame()\n",
    "for i in os.listdir(\"dataset\"):\n",
    "    print(i)\n",
    "    df = pd.concat([pd.read_csv(\"dataset/\"+i),df])\n",
    "    print(df)"
   ]
  },
  {
   "cell_type": "code",
   "execution_count": null,
   "id": "bafecd22",
   "metadata": {},
   "outputs": [],
   "source": [
    "df1 = df1.drop(columns=[\"Unnamed: 0\"])"
   ]
  },
  {
   "cell_type": "code",
   "execution_count": null,
   "id": "0f2ecc04",
   "metadata": {},
   "outputs": [],
   "source": [
    "df1"
   ]
  },
  {
   "cell_type": "code",
   "execution_count": null,
   "id": "7772e198",
   "metadata": {},
   "outputs": [],
   "source": [
    "pwd"
   ]
  },
  {
   "cell_type": "code",
   "execution_count": null,
   "id": "31de2b4a",
   "metadata": {},
   "outputs": [],
   "source": [
    "from cassandra.cluster import Cluster\n",
    "from cassandra.auth import PlainTextAuthProvider\n",
    "\n",
    "cloud_config = {\n",
    "    'secure_connect_bundle': r'C:\\Users\\Dell\\Downloads\\secure-connect-network-security.zip'\n",
    "}\n",
    "auth_provider = PlainTextAuthProvider('wMYGfEqsjxXldhDPlUXpiNAu',\n",
    "                                      'LLA4lR8g4bQOjrDXZQPO.IOchQublLQ4LArmJotwpSH13LhEnSkKQfBjaIwaMkEv-e6ftB,92p6yZ,'\n",
    "                                      'vZxZnoSK37OWQ.I.eUGaU7e1_3jUGUMQjltX2otmw9ZZ,7MF4A')\n",
    "cluster = Cluster(cloud=cloud_config, auth_provider=auth_provider)"
   ]
  },
  {
   "cell_type": "code",
   "execution_count": null,
   "id": "c736ceaf",
   "metadata": {},
   "outputs": [],
   "source": [
    "query = \"\"\n",
    "for column in df2.columns:\n",
    "    if column[0] == ' ':\n",
    "        column = column[1:]\n",
    "    column = column.replace(' ', '_')\n",
    "    column = column.replace('/', '_')\n",
    "    column = column.replace('.', '_')\n",
    "\n",
    "    if column == \"serial\":\n",
    "        query += column + \" decimal PRIMARY KEY,\"\n",
    "    elif column == \"Label\":\n",
    "        query += column + \" varchar\"\n",
    "    else:\n",
    "        query += column + \" decimal,\""
   ]
  },
  {
   "cell_type": "code",
   "execution_count": null,
   "id": "6de32f62",
   "metadata": {},
   "outputs": [],
   "source": [
    "len(query.split(\",\"))"
   ]
  },
  {
   "cell_type": "code",
   "execution_count": null,
   "id": "c347e94d",
   "metadata": {},
   "outputs": [],
   "source": [
    "query = query[0:-1]"
   ]
  },
  {
   "cell_type": "code",
   "execution_count": null,
   "id": "a9d7f2fb",
   "metadata": {},
   "outputs": [],
   "source": [
    "session = cluster.connect()"
   ]
  },
  {
   "cell_type": "code",
   "execution_count": null,
   "id": "f67a5f88",
   "metadata": {},
   "outputs": [],
   "source": [
    "session.execute('CREATE TABLE prediction.data(' + query + ');').one()"
   ]
  },
  {
   "cell_type": "code",
   "execution_count": null,
   "id": "22e04c4d",
   "metadata": {},
   "outputs": [],
   "source": [
    "query = \"serial decimal PRIMARY KEY, \" + query"
   ]
  },
  {
   "cell_type": "code",
   "execution_count": null,
   "id": "5993e771",
   "metadata": {},
   "outputs": [],
   "source": [
    "df2 = pd.read_csv(\"Training_FileFromDB/InputFile.csv\")"
   ]
  },
  {
   "cell_type": "code",
   "execution_count": null,
   "id": "289fb3ee",
   "metadata": {},
   "outputs": [],
   "source": [
    "df2"
   ]
  },
  {
   "cell_type": "code",
   "execution_count": null,
   "id": "aa063e23",
   "metadata": {},
   "outputs": [],
   "source": [
    "query"
   ]
  },
  {
   "cell_type": "code",
   "execution_count": null,
   "id": "bb349af4",
   "metadata": {},
   "outputs": [],
   "source": [
    "df2 = df2.drop(columns=[\"Unnamed: 68\",\"label\"])"
   ]
  },
  {
   "cell_type": "code",
   "execution_count": null,
   "id": "b3726b65",
   "metadata": {},
   "outputs": [],
   "source": [
    "df1"
   ]
  },
  {
   "cell_type": "code",
   "execution_count": null,
   "id": "ecd551e0",
   "metadata": {},
   "outputs": [],
   "source": [
    "pwd"
   ]
  },
  {
   "cell_type": "code",
   "execution_count": null,
   "id": "87308119",
   "metadata": {},
   "outputs": [],
   "source": [
    "os.mkdir(\"prediction_file\")"
   ]
  },
  {
   "cell_type": "code",
   "execution_count": null,
   "id": "672bbda6",
   "metadata": {},
   "outputs": [],
   "source": [
    "os.chdir(\"prediction_file\")"
   ]
  },
  {
   "cell_type": "code",
   "execution_count": null,
   "id": "2998acb1",
   "metadata": {},
   "outputs": [],
   "source": [
    "df1.to_csv(\"Tuesday-WorkingHours.pcap_ISCX.csv\")"
   ]
  },
  {
   "cell_type": "code",
   "execution_count": null,
   "id": "aabd3421",
   "metadata": {},
   "outputs": [],
   "source": [
    "df = pd.read_csv(\"Tuesday-WorkingHours.pcap_ISCX.csv\")"
   ]
  },
  {
   "cell_type": "code",
   "execution_count": null,
   "id": "efe3ad87",
   "metadata": {},
   "outputs": [],
   "source": [
    "df"
   ]
  },
  {
   "cell_type": "code",
   "execution_count": null,
   "id": "aa68717e",
   "metadata": {},
   "outputs": [],
   "source": [
    "pwd"
   ]
  },
  {
   "cell_type": "code",
   "execution_count": null,
   "id": "72dc8be2",
   "metadata": {},
   "outputs": [],
   "source": [
    "os.chdir(\"E:\\\\full stack\\\\internship\\\\network security\")"
   ]
  },
  {
   "cell_type": "code",
   "execution_count": null,
   "id": "113e02d7",
   "metadata": {},
   "outputs": [],
   "source": [
    "from prediction_validation_insertion.prediction_rawdata_validation import Validation"
   ]
  },
  {
   "cell_type": "code",
   "execution_count": null,
   "id": "4cb3adca",
   "metadata": {},
   "outputs": [],
   "source": [
    "from cassandra.cluster import Cluster\n",
    "from cassandra.auth import PlainTextAuthProvider\n",
    "\n",
    "cloud_config = {\n",
    "    'secure_connect_bundle': r'C:\\Users\\Dell\\Downloads\\secure-connect-network-security.zip'\n",
    "}\n",
    "auth_provider = PlainTextAuthProvider('wMYGfEqsjxXldhDPlUXpiNAu',\n",
    "                                      'LLA4lR8g4bQOjrDXZQPO.IOchQublLQ4LArmJotwpSH13LhEnSkKQfBjaIwaMkEv-e6ftB,92p6yZ,'\n",
    "                                      'vZxZnoSK37OWQ.I.eUGaU7e1_3jUGUMQjltX2otmw9ZZ,7MF4A')\n",
    "cluster = Cluster(cloud=cloud_config, auth_provider=auth_provider)\n"
   ]
  },
  {
   "cell_type": "code",
   "execution_count": null,
   "id": "371a9795",
   "metadata": {},
   "outputs": [],
   "source": [
    "import pandas as pd\n",
    "session = cluster.connect()\n",
    "count_file_row = 0\n",
    "empty_columns = []\n",
    "path = \"Prediction_rawfiles_validated/Good_Raw/\"\n",
    "df = pd.read_csv(path + 'final data')\n",
    "for i in df.columns:\n",
    "    if df[i].isin([0]).sum(axis=0) == 1500:\n",
    "        empty_columns.append(i)\n",
    "df.drop(columns=empty_columns, inplace=True)\n",
    "df.drop(columns=[\"Unnamed: 0\"], inplace=True)\n",
    "lst = [i for i in range(1, df.shape[0] + 1)]\n",
    "df.insert(0, \"serial\", lst, True)\n",
    "for i in df.columns:\n",
    "    df[i].fillna(df[i].mode()[0], inplace=True)\n",
    "\n"
   ]
  },
  {
   "cell_type": "code",
   "execution_count": null,
   "id": "5d6069ba",
   "metadata": {},
   "outputs": [],
   "source": [
    "import os"
   ]
  },
  {
   "cell_type": "code",
   "execution_count": null,
   "id": "2fd5798f",
   "metadata": {},
   "outputs": [],
   "source": []
  },
  {
   "cell_type": "code",
   "execution_count": null,
   "id": "0a25862b",
   "metadata": {},
   "outputs": [],
   "source": [
    "for i in range(df.shape[0]):\n",
    "    count_file_row += 1\n",
    "    query = 'insert into prediction.data('\n",
    "    for column in df.columns:\n",
    "\n",
    "        if column[0] == ' ':\n",
    "            column = column[1:]\n",
    "\n",
    "        column = column.replace(' ', '_')\n",
    "        column = column.replace('/', '_')\n",
    "        column = column.replace('.', '_')\n",
    "        query = query + column + \",\"\n",
    "\n",
    "    query = query[:-1]\n",
    "    query = query + ') values({});'\n",
    "\n",
    "    variable = str((df.iloc[i]).values).replace(' ', ',')\n",
    "    variable = variable.replace('[', '')\n",
    "    variable = variable.replace(']', '')\n",
    "    query = query.format(variable)\n",
    "    query = query.replace(\"inf\", \"0\")\n",
    "    session.execute(query)"
   ]
  },
  {
   "cell_type": "code",
   "execution_count": null,
   "id": "25f8ca41",
   "metadata": {},
   "outputs": [],
   "source": [
    "path = os.path.join(\"Prediction_rawfiles_validated/\", \"Good_Raw/\")\n",
    "if not os.path.isdir(path):\n",
    "    os.mkdir(path)"
   ]
  },
  {
   "cell_type": "code",
   "execution_count": null,
   "id": "b4329113",
   "metadata": {},
   "outputs": [],
   "source": [
    "os.mkdir(\"Prediction_rawfiles_validated\")"
   ]
  },
  {
   "cell_type": "code",
   "execution_count": null,
   "id": "6e716117",
   "metadata": {},
   "outputs": [],
   "source": [
    "df = pd.read_csv(\"prediction_file/Tuesday-WorkingHours.pcap_ISCX.csv\")"
   ]
  },
  {
   "cell_type": "code",
   "execution_count": null,
   "id": "ec8af292",
   "metadata": {},
   "outputs": [],
   "source": [
    "df"
   ]
  },
  {
   "cell_type": "code",
   "execution_count": null,
   "id": "704d8e21",
   "metadata": {},
   "outputs": [],
   "source": [
    "path = \"Prediction_rawfiles_validated/\"\n",
    "for file in os.listdir(path + \"Good_Raw/\"):\n",
    "    df = pd.read_csv(path + \"Good_Raw/\" + file)"
   ]
  },
  {
   "cell_type": "code",
   "execution_count": null,
   "id": "a382d6fc",
   "metadata": {},
   "outputs": [],
   "source": [
    "df"
   ]
  },
  {
   "cell_type": "code",
   "execution_count": null,
   "id": "a611a50d",
   "metadata": {},
   "outputs": [],
   "source": [
    "import pandas as pd\n",
    "df = pd.read_csv(r\"E:\\full stack\\internship\\network security\\prediction_file\\Tuesday-WorkingHours.pcap_ISCX.csv\")"
   ]
  },
  {
   "cell_type": "code",
   "execution_count": null,
   "id": "962bdaa4",
   "metadata": {},
   "outputs": [],
   "source": [
    "df"
   ]
  },
  {
   "cell_type": "code",
   "execution_count": null,
   "id": "74a38d11",
   "metadata": {},
   "outputs": [],
   "source": [
    "import os\n",
    "files = os.listdir(r\"E:\\full stack\\internship\\network security\\prediction_file\")\n",
    "for file in files:\n",
    "    print(file)\n",
    "    print(pd.read_csv(\"prediction_file/\"+file))"
   ]
  },
  {
   "cell_type": "code",
   "execution_count": 7,
   "id": "1db2d2f6",
   "metadata": {},
   "outputs": [],
   "source": [
    "from cassandra.cluster import Cluster\n",
    "from cassandra.auth import PlainTextAuthProvider\n",
    "\n",
    "cloud_config = {\n",
    "    'secure_connect_bundle': r'C:\\Users\\Dell\\Downloads\\secure-connect-network-security.zip'\n",
    "}\n",
    "auth_provider = PlainTextAuthProvider('wMYGfEqsjxXldhDPlUXpiNAu',\n",
    "                                      'LLA4lR8g4bQOjrDXZQPO.IOchQublLQ4LArmJotwpSH13LhEnSkKQfBjaIwaMkEv-e6ftB,92p6yZ,'\n",
    "                                      'vZxZnoSK37OWQ.I.eUGaU7e1_3jUGUMQjltX2otmw9ZZ,7MF4A')\n",
    "cluster = Cluster(cloud=cloud_config, auth_provider=auth_provider)\n",
    "\n"
   ]
  },
  {
   "cell_type": "code",
   "execution_count": 19,
   "id": "c8bdb6d3",
   "metadata": {},
   "outputs": [],
   "source": [
    "import pandas as pd\n",
    "import os\n",
    "session = cluster.connect()\n",
    "count_file_row = 0\n",
    "empty_columns = []\n",
    "path = \"Prediction_rawfiles_validated/Good_Raw/\"\n",
    "df = pd.read_csv(path + 'prediction.csv')\n",
    "for i in df.columns:\n",
    "    if df[i].isin([0]).sum(axis=0) == 225:\n",
    "        empty_columns.append(i)\n",
    "df.drop(columns=empty_columns, inplace=True)\n",
    "df.drop(columns=[\"Unnamed: 0\"], inplace=True)\n",
    "lst = [i for i in range(1, df.shape[0] + 1)]\n",
    "df.insert(0, \"serial\", lst, True)\n",
    "for i in df.columns:\n",
    "    df[i].fillna(df[i].mode()[0], inplace=True)\n"
   ]
  },
  {
   "cell_type": "code",
   "execution_count": 55,
   "id": "e39fd58b",
   "metadata": {},
   "outputs": [],
   "source": [
    "\n",
    "for i in range(df.shape[0]):\n",
    "    count_file_row += 1\n",
    "    query = 'insert into prediction.data('\n",
    "    for column in df.columns:\n",
    "\n",
    "        if column[0] == ' ':\n",
    "            column = column[1:]\n",
    "\n",
    "        column = column.replace(' ', '_')\n",
    "        column = column.replace('/', '_')\n",
    "        column = column.replace('.', '_')\n",
    "        query = query + column + \",\"\n",
    "\n",
    "    query = query[:-1]\n",
    "    query = query + ') values({});'\n",
    "    variable = str((df.iloc[i]).values)\n",
    "    \n",
    "    variable = variable.replace('  ', ',')\n",
    "    variable = variable.replace(' ',',')\n",
    "    variable = variable.replace('[', '')\n",
    "    \n",
    "    variable = variable.replace(']', '')\n",
    "    query = query.format(variable)\n",
    "    query = query.replace('(,','(')\n",
    "    query = query.replace(\"inf\", \"0\")\n",
    "    session.execute(query)\n",
    "    "
   ]
  },
  {
   "cell_type": "code",
   "execution_count": 54,
   "id": "ec9d661a",
   "metadata": {},
   "outputs": [
    {
     "data": {
      "text/plain": [
       "',4.00000000e+00,5.30000000e+01,3.75000000e+02,2.00000000e+00\\n,2.00000000e+00,6.80000000e+01,6.90000000e+02,3.40000000e+01\\n,3.40000000e+01,3.40000000e+01,0.00000000e+00,3.45000000e+02\\n,3.45000000e+02,3.45000000e+02,0.00000000e+00,2.02133333e+06\\n,1.06666667e+04,1.25000000e+02,2.10444767e+02,3.68000000e+02\\n,3.00000000e+00,3.00000000e+00,3.00000000e+00,0.00000000e+00\\n,3.00000000e+00,3.00000000e+00,4.00000000e+00,4.00000000e+00\\n,0.00000000e+00,4.00000000e+00,4.00000000e+00,0.00000000e+00\\n,4.00000000e+01,4.00000000e+01,5.33333333e+03,5.33333333e+03\\n,3.40000000e+01,3.45000000e+02,1.58400000e+02,1.70341715e+02\\n,2.90163000e+04,0.00000000e+00,0.00000000e+00,0.00000000e+00\\n,0.00000000e+00,0.00000000e+00,1.00000000e+00,1.98000000e+02\\n,3.40000000e+01,3.45000000e+02,4.00000000e+01,2.00000000e+00\\n,6.80000000e+01,2.00000000e+00,6.90000000e+02,-1.00000000e+00\\n,-1.00000000e+00,1.00000000e+00,2.00000000e+01,0.00000000e+00\\n,0.00000000e+00,0.00000000e+00,0.00000000e+00,0.00000000e+00\\n,0.00000000e+00,0.00000000e+00,0.00000000e+00'"
      ]
     },
     "execution_count": 54,
     "metadata": {},
     "output_type": "execute_result"
    }
   ],
   "source": [
    "variable"
   ]
  },
  {
   "cell_type": "code",
   "execution_count": 53,
   "id": "2820c7e6",
   "metadata": {},
   "outputs": [
    {
     "data": {
      "text/plain": [
       "'insert into prediction.data(serial,Destination_Port,Flow_Duration,Total_Fwd_Packets,Total_Backward_Packets,Total_Length_of_Fwd_Packets,Total_Length_of_Bwd_Packets,Fwd_Packet_Length_Max,Fwd_Packet_Length_Min,Fwd_Packet_Length_Mean,Fwd_Packet_Length_Std,Bwd_Packet_Length_Max,Bwd_Packet_Length_Min,Bwd_Packet_Length_Mean,Bwd_Packet_Length_Std,Flow_Bytes_s,Flow_Packets_s,Flow_IAT_Mean,Flow_IAT_Std,Flow_IAT_Max,Flow_IAT_Min,Fwd_IAT_Total,Fwd_IAT_Mean,Fwd_IAT_Std,Fwd_IAT_Max,Fwd_IAT_Min,Bwd_IAT_Total,Bwd_IAT_Mean,Bwd_IAT_Std,Bwd_IAT_Max,Bwd_IAT_Min,Fwd_PSH_Flags,Fwd_Header_Length,Bwd_Header_Length,Fwd_Packets_s,Bwd_Packets_s,Min_Packet_Length,Max_Packet_Length,Packet_Length_Mean,Packet_Length_Std,Packet_Length_Variance,FIN_Flag_Count,SYN_Flag_Count,PSH_Flag_Count,ACK_Flag_Count,URG_Flag_Count,Down_Up_Ratio,Average_Packet_Size,Avg_Fwd_Segment_Size,Avg_Bwd_Segment_Size,Fwd_Header_Length_1,Subflow_Fwd_Packets,Subflow_Fwd_Bytes,Subflow_Bwd_Packets,Subflow_Bwd_Bytes,Init_Win_bytes_forward,Init_Win_bytes_backward,act_data_pkt_fwd,min_seg_size_forward,Active_Mean,Active_Std,Active_Max,Active_Min,Idle_Mean,Idle_Std,Idle_Max,Idle_Min) values(,4.00000000e+00,5.30000000e+01,3.75000000e+02,2.00000000e+00\\n,2.00000000e+00,6.80000000e+01,6.90000000e+02,3.40000000e+01\\n,3.40000000e+01,3.40000000e+01,0.00000000e+00,3.45000000e+02\\n,3.45000000e+02,3.45000000e+02,0.00000000e+00,2.02133333e+06\\n,1.06666667e+04,1.25000000e+02,2.10444767e+02,3.68000000e+02\\n,3.00000000e+00,3.00000000e+00,3.00000000e+00,0.00000000e+00\\n,3.00000000e+00,3.00000000e+00,4.00000000e+00,4.00000000e+00\\n,0.00000000e+00,4.00000000e+00,4.00000000e+00,0.00000000e+00\\n,4.00000000e+01,4.00000000e+01,5.33333333e+03,5.33333333e+03\\n,3.40000000e+01,3.45000000e+02,1.58400000e+02,1.70341715e+02\\n,2.90163000e+04,0.00000000e+00,0.00000000e+00,0.00000000e+00\\n,0.00000000e+00,0.00000000e+00,1.00000000e+00,1.98000000e+02\\n,3.40000000e+01,3.45000000e+02,4.00000000e+01,2.00000000e+00\\n,6.80000000e+01,2.00000000e+00,6.90000000e+02,-1.00000000e+00\\n,-1.00000000e+00,1.00000000e+00,2.00000000e+01,0.00000000e+00\\n,0.00000000e+00,0.00000000e+00,0.00000000e+00,0.00000000e+00\\n,0.00000000e+00,0.00000000e+00,0.00000000e+00);'"
      ]
     },
     "execution_count": 53,
     "metadata": {},
     "output_type": "execute_result"
    }
   ],
   "source": [
    "query"
   ]
  },
  {
   "cell_type": "code",
   "execution_count": 21,
   "id": "c90a4c3d",
   "metadata": {},
   "outputs": [
    {
     "data": {
      "text/plain": [
       "<cassandra.cluster.ResultSet at 0x22f79761fa0>"
      ]
     },
     "execution_count": 21,
     "metadata": {},
     "output_type": "execute_result"
    }
   ],
   "source": [
    "variable = str((df.iloc[i]).values).replace('  ', ',')\n",
    "variable = variable.replace(' ',',')\n",
    "variable = variable.replace('[', '')\n",
    "variable = variable.replace(']', '')\n",
    "query = query.format(variable)\n",
    "query = query.replace(\"inf\", \"0\")\n",
    "session.execute(query)"
   ]
  },
  {
   "cell_type": "code",
   "execution_count": 3,
   "id": "481d08d5",
   "metadata": {},
   "outputs": [
    {
     "data": {
      "text/html": [
       "<div>\n",
       "<style scoped>\n",
       "    .dataframe tbody tr th:only-of-type {\n",
       "        vertical-align: middle;\n",
       "    }\n",
       "\n",
       "    .dataframe tbody tr th {\n",
       "        vertical-align: top;\n",
       "    }\n",
       "\n",
       "    .dataframe thead th {\n",
       "        text-align: right;\n",
       "    }\n",
       "</style>\n",
       "<table border=\"1\" class=\"dataframe\">\n",
       "  <thead>\n",
       "    <tr style=\"text-align: right;\">\n",
       "      <th></th>\n",
       "      <th>Destination Port</th>\n",
       "      <th>Flow Duration</th>\n",
       "      <th>Total Fwd Packets</th>\n",
       "      <th>Total Backward Packets</th>\n",
       "      <th>Total Length of Fwd Packets</th>\n",
       "      <th>Total Length of Bwd Packets</th>\n",
       "      <th>Fwd Packet Length Max</th>\n",
       "      <th>Fwd Packet Length Min</th>\n",
       "      <th>Fwd Packet Length Mean</th>\n",
       "      <th>Fwd Packet Length Std</th>\n",
       "      <th>...</th>\n",
       "      <th>min_seg_size_forward</th>\n",
       "      <th>Active Mean</th>\n",
       "      <th>Active Std</th>\n",
       "      <th>Active Max</th>\n",
       "      <th>Active Min</th>\n",
       "      <th>Idle Mean</th>\n",
       "      <th>Idle Std</th>\n",
       "      <th>Idle Max</th>\n",
       "      <th>Idle Min</th>\n",
       "      <th>Label</th>\n",
       "    </tr>\n",
       "  </thead>\n",
       "  <tbody>\n",
       "    <tr>\n",
       "      <th>0</th>\n",
       "      <td>53.0</td>\n",
       "      <td>570034</td>\n",
       "      <td>1.0</td>\n",
       "      <td>1.0</td>\n",
       "      <td>37.0</td>\n",
       "      <td>115.0</td>\n",
       "      <td>37.0</td>\n",
       "      <td>37.0</td>\n",
       "      <td>37.000000</td>\n",
       "      <td>0.000000</td>\n",
       "      <td>...</td>\n",
       "      <td>20.0</td>\n",
       "      <td>0.0</td>\n",
       "      <td>0.0</td>\n",
       "      <td>0.0</td>\n",
       "      <td>0.0</td>\n",
       "      <td>0.0</td>\n",
       "      <td>0.0</td>\n",
       "      <td>0.0</td>\n",
       "      <td>0.0</td>\n",
       "      <td>BENIGN</td>\n",
       "    </tr>\n",
       "    <tr>\n",
       "      <th>1</th>\n",
       "      <td>80.0</td>\n",
       "      <td>5429324</td>\n",
       "      <td>3.0</td>\n",
       "      <td>1.0</td>\n",
       "      <td>0.0</td>\n",
       "      <td>0.0</td>\n",
       "      <td>0.0</td>\n",
       "      <td>0.0</td>\n",
       "      <td>0.000000</td>\n",
       "      <td>0.000000</td>\n",
       "      <td>...</td>\n",
       "      <td>32.0</td>\n",
       "      <td>0.0</td>\n",
       "      <td>0.0</td>\n",
       "      <td>0.0</td>\n",
       "      <td>0.0</td>\n",
       "      <td>0.0</td>\n",
       "      <td>0.0</td>\n",
       "      <td>0.0</td>\n",
       "      <td>0.0</td>\n",
       "      <td>BENIGN</td>\n",
       "    </tr>\n",
       "    <tr>\n",
       "      <th>2</th>\n",
       "      <td>53.0</td>\n",
       "      <td>570034</td>\n",
       "      <td>1.0</td>\n",
       "      <td>1.0</td>\n",
       "      <td>37.0</td>\n",
       "      <td>115.0</td>\n",
       "      <td>37.0</td>\n",
       "      <td>37.0</td>\n",
       "      <td>37.000000</td>\n",
       "      <td>0.000000</td>\n",
       "      <td>...</td>\n",
       "      <td>20.0</td>\n",
       "      <td>0.0</td>\n",
       "      <td>0.0</td>\n",
       "      <td>0.0</td>\n",
       "      <td>0.0</td>\n",
       "      <td>0.0</td>\n",
       "      <td>0.0</td>\n",
       "      <td>0.0</td>\n",
       "      <td>0.0</td>\n",
       "      <td>BENIGN</td>\n",
       "    </tr>\n",
       "    <tr>\n",
       "      <th>3</th>\n",
       "      <td>80.0</td>\n",
       "      <td>5429324</td>\n",
       "      <td>3.0</td>\n",
       "      <td>1.0</td>\n",
       "      <td>0.0</td>\n",
       "      <td>0.0</td>\n",
       "      <td>0.0</td>\n",
       "      <td>0.0</td>\n",
       "      <td>0.000000</td>\n",
       "      <td>0.000000</td>\n",
       "      <td>...</td>\n",
       "      <td>32.0</td>\n",
       "      <td>0.0</td>\n",
       "      <td>0.0</td>\n",
       "      <td>0.0</td>\n",
       "      <td>0.0</td>\n",
       "      <td>0.0</td>\n",
       "      <td>0.0</td>\n",
       "      <td>0.0</td>\n",
       "      <td>0.0</td>\n",
       "      <td>BENIGN</td>\n",
       "    </tr>\n",
       "    <tr>\n",
       "      <th>4</th>\n",
       "      <td>80.0</td>\n",
       "      <td>5429324</td>\n",
       "      <td>3.0</td>\n",
       "      <td>1.0</td>\n",
       "      <td>0.0</td>\n",
       "      <td>0.0</td>\n",
       "      <td>0.0</td>\n",
       "      <td>0.0</td>\n",
       "      <td>0.000000</td>\n",
       "      <td>0.000000</td>\n",
       "      <td>...</td>\n",
       "      <td>32.0</td>\n",
       "      <td>0.0</td>\n",
       "      <td>0.0</td>\n",
       "      <td>0.0</td>\n",
       "      <td>0.0</td>\n",
       "      <td>0.0</td>\n",
       "      <td>0.0</td>\n",
       "      <td>0.0</td>\n",
       "      <td>0.0</td>\n",
       "      <td>BENIGN</td>\n",
       "    </tr>\n",
       "    <tr>\n",
       "      <th>...</th>\n",
       "      <td>...</td>\n",
       "      <td>...</td>\n",
       "      <td>...</td>\n",
       "      <td>...</td>\n",
       "      <td>...</td>\n",
       "      <td>...</td>\n",
       "      <td>...</td>\n",
       "      <td>...</td>\n",
       "      <td>...</td>\n",
       "      <td>...</td>\n",
       "      <td>...</td>\n",
       "      <td>...</td>\n",
       "      <td>...</td>\n",
       "      <td>...</td>\n",
       "      <td>...</td>\n",
       "      <td>...</td>\n",
       "      <td>...</td>\n",
       "      <td>...</td>\n",
       "      <td>...</td>\n",
       "      <td>...</td>\n",
       "      <td>...</td>\n",
       "    </tr>\n",
       "    <tr>\n",
       "      <th>220</th>\n",
       "      <td>444.0</td>\n",
       "      <td>24719667</td>\n",
       "      <td>590.0</td>\n",
       "      <td>436.0</td>\n",
       "      <td>7442.0</td>\n",
       "      <td>1636683.0</td>\n",
       "      <td>5792.0</td>\n",
       "      <td>0.0</td>\n",
       "      <td>12.613559</td>\n",
       "      <td>238.708658</td>\n",
       "      <td>...</td>\n",
       "      <td>32.0</td>\n",
       "      <td>0.0</td>\n",
       "      <td>0.0</td>\n",
       "      <td>0.0</td>\n",
       "      <td>0.0</td>\n",
       "      <td>0.0</td>\n",
       "      <td>0.0</td>\n",
       "      <td>0.0</td>\n",
       "      <td>0.0</td>\n",
       "      <td>Heartbleed</td>\n",
       "    </tr>\n",
       "    <tr>\n",
       "      <th>221</th>\n",
       "      <td>444.0</td>\n",
       "      <td>119302728</td>\n",
       "      <td>2685.0</td>\n",
       "      <td>1729.0</td>\n",
       "      <td>8299.0</td>\n",
       "      <td>7556917.0</td>\n",
       "      <td>517.0</td>\n",
       "      <td>0.0</td>\n",
       "      <td>3.090875</td>\n",
       "      <td>16.858421</td>\n",
       "      <td>...</td>\n",
       "      <td>32.0</td>\n",
       "      <td>2217.0</td>\n",
       "      <td>0.0</td>\n",
       "      <td>2217.0</td>\n",
       "      <td>2217.0</td>\n",
       "      <td>5024984.0</td>\n",
       "      <td>0.0</td>\n",
       "      <td>5024984.0</td>\n",
       "      <td>5024984.0</td>\n",
       "      <td>Heartbleed</td>\n",
       "    </tr>\n",
       "    <tr>\n",
       "      <th>222</th>\n",
       "      <td>444.0</td>\n",
       "      <td>119262215</td>\n",
       "      <td>2792.0</td>\n",
       "      <td>2110.0</td>\n",
       "      <td>13712.0</td>\n",
       "      <td>7878135.0</td>\n",
       "      <td>5792.0</td>\n",
       "      <td>0.0</td>\n",
       "      <td>4.911175</td>\n",
       "      <td>110.376448</td>\n",
       "      <td>...</td>\n",
       "      <td>32.0</td>\n",
       "      <td>0.0</td>\n",
       "      <td>0.0</td>\n",
       "      <td>0.0</td>\n",
       "      <td>0.0</td>\n",
       "      <td>0.0</td>\n",
       "      <td>0.0</td>\n",
       "      <td>0.0</td>\n",
       "      <td>0.0</td>\n",
       "      <td>Heartbleed</td>\n",
       "    </tr>\n",
       "    <tr>\n",
       "      <th>223</th>\n",
       "      <td>444.0</td>\n",
       "      <td>24719667</td>\n",
       "      <td>590.0</td>\n",
       "      <td>436.0</td>\n",
       "      <td>7442.0</td>\n",
       "      <td>1636683.0</td>\n",
       "      <td>5792.0</td>\n",
       "      <td>0.0</td>\n",
       "      <td>12.613559</td>\n",
       "      <td>238.708658</td>\n",
       "      <td>...</td>\n",
       "      <td>32.0</td>\n",
       "      <td>0.0</td>\n",
       "      <td>0.0</td>\n",
       "      <td>0.0</td>\n",
       "      <td>0.0</td>\n",
       "      <td>0.0</td>\n",
       "      <td>0.0</td>\n",
       "      <td>0.0</td>\n",
       "      <td>0.0</td>\n",
       "      <td>Heartbleed</td>\n",
       "    </tr>\n",
       "    <tr>\n",
       "      <th>224</th>\n",
       "      <td>444.0</td>\n",
       "      <td>24719667</td>\n",
       "      <td>590.0</td>\n",
       "      <td>436.0</td>\n",
       "      <td>7442.0</td>\n",
       "      <td>1636683.0</td>\n",
       "      <td>5792.0</td>\n",
       "      <td>0.0</td>\n",
       "      <td>12.613559</td>\n",
       "      <td>238.708658</td>\n",
       "      <td>...</td>\n",
       "      <td>32.0</td>\n",
       "      <td>0.0</td>\n",
       "      <td>0.0</td>\n",
       "      <td>0.0</td>\n",
       "      <td>0.0</td>\n",
       "      <td>0.0</td>\n",
       "      <td>0.0</td>\n",
       "      <td>0.0</td>\n",
       "      <td>0.0</td>\n",
       "      <td>Heartbleed</td>\n",
       "    </tr>\n",
       "  </tbody>\n",
       "</table>\n",
       "<p>225 rows × 79 columns</p>\n",
       "</div>"
      ],
      "text/plain": [
       "      Destination Port   Flow Duration   Total Fwd Packets  \\\n",
       "0                 53.0          570034                 1.0   \n",
       "1                 80.0         5429324                 3.0   \n",
       "2                 53.0          570034                 1.0   \n",
       "3                 80.0         5429324                 3.0   \n",
       "4                 80.0         5429324                 3.0   \n",
       "..                 ...             ...                 ...   \n",
       "220              444.0        24719667               590.0   \n",
       "221              444.0       119302728              2685.0   \n",
       "222              444.0       119262215              2792.0   \n",
       "223              444.0        24719667               590.0   \n",
       "224              444.0        24719667               590.0   \n",
       "\n",
       "      Total Backward Packets  Total Length of Fwd Packets  \\\n",
       "0                        1.0                         37.0   \n",
       "1                        1.0                          0.0   \n",
       "2                        1.0                         37.0   \n",
       "3                        1.0                          0.0   \n",
       "4                        1.0                          0.0   \n",
       "..                       ...                          ...   \n",
       "220                    436.0                       7442.0   \n",
       "221                   1729.0                       8299.0   \n",
       "222                   2110.0                      13712.0   \n",
       "223                    436.0                       7442.0   \n",
       "224                    436.0                       7442.0   \n",
       "\n",
       "      Total Length of Bwd Packets   Fwd Packet Length Max  \\\n",
       "0                           115.0                    37.0   \n",
       "1                             0.0                     0.0   \n",
       "2                           115.0                    37.0   \n",
       "3                             0.0                     0.0   \n",
       "4                             0.0                     0.0   \n",
       "..                            ...                     ...   \n",
       "220                     1636683.0                  5792.0   \n",
       "221                     7556917.0                   517.0   \n",
       "222                     7878135.0                  5792.0   \n",
       "223                     1636683.0                  5792.0   \n",
       "224                     1636683.0                  5792.0   \n",
       "\n",
       "      Fwd Packet Length Min   Fwd Packet Length Mean   Fwd Packet Length Std  \\\n",
       "0                      37.0                37.000000                0.000000   \n",
       "1                       0.0                 0.000000                0.000000   \n",
       "2                      37.0                37.000000                0.000000   \n",
       "3                       0.0                 0.000000                0.000000   \n",
       "4                       0.0                 0.000000                0.000000   \n",
       "..                      ...                      ...                     ...   \n",
       "220                     0.0                12.613559              238.708658   \n",
       "221                     0.0                 3.090875               16.858421   \n",
       "222                     0.0                 4.911175              110.376448   \n",
       "223                     0.0                12.613559              238.708658   \n",
       "224                     0.0                12.613559              238.708658   \n",
       "\n",
       "     ...   min_seg_size_forward  Active Mean   Active Std   Active Max  \\\n",
       "0    ...                   20.0          0.0          0.0          0.0   \n",
       "1    ...                   32.0          0.0          0.0          0.0   \n",
       "2    ...                   20.0          0.0          0.0          0.0   \n",
       "3    ...                   32.0          0.0          0.0          0.0   \n",
       "4    ...                   32.0          0.0          0.0          0.0   \n",
       "..   ...                    ...          ...          ...          ...   \n",
       "220  ...                   32.0          0.0          0.0          0.0   \n",
       "221  ...                   32.0       2217.0          0.0       2217.0   \n",
       "222  ...                   32.0          0.0          0.0          0.0   \n",
       "223  ...                   32.0          0.0          0.0          0.0   \n",
       "224  ...                   32.0          0.0          0.0          0.0   \n",
       "\n",
       "      Active Min  Idle Mean   Idle Std   Idle Max   Idle Min       Label  \n",
       "0            0.0        0.0        0.0        0.0        0.0      BENIGN  \n",
       "1            0.0        0.0        0.0        0.0        0.0      BENIGN  \n",
       "2            0.0        0.0        0.0        0.0        0.0      BENIGN  \n",
       "3            0.0        0.0        0.0        0.0        0.0      BENIGN  \n",
       "4            0.0        0.0        0.0        0.0        0.0      BENIGN  \n",
       "..           ...        ...        ...        ...        ...         ...  \n",
       "220          0.0        0.0        0.0        0.0        0.0  Heartbleed  \n",
       "221       2217.0  5024984.0        0.0  5024984.0  5024984.0  Heartbleed  \n",
       "222          0.0        0.0        0.0        0.0        0.0  Heartbleed  \n",
       "223          0.0        0.0        0.0        0.0        0.0  Heartbleed  \n",
       "224          0.0        0.0        0.0        0.0        0.0  Heartbleed  \n",
       "\n",
       "[225 rows x 79 columns]"
      ]
     },
     "execution_count": 3,
     "metadata": {},
     "output_type": "execute_result"
    }
   ],
   "source": [
    "df"
   ]
  },
  {
   "cell_type": "code",
   "execution_count": 39,
   "id": "8abae8c2",
   "metadata": {},
   "outputs": [
    {
     "data": {
      "text/html": [
       "<div>\n",
       "<style scoped>\n",
       "    .dataframe tbody tr th:only-of-type {\n",
       "        vertical-align: middle;\n",
       "    }\n",
       "\n",
       "    .dataframe tbody tr th {\n",
       "        vertical-align: top;\n",
       "    }\n",
       "\n",
       "    .dataframe thead th {\n",
       "        text-align: right;\n",
       "    }\n",
       "</style>\n",
       "<table border=\"1\" class=\"dataframe\">\n",
       "  <thead>\n",
       "    <tr style=\"text-align: right;\">\n",
       "      <th></th>\n",
       "      <th>serial</th>\n",
       "      <th>Destination Port</th>\n",
       "      <th>Flow Duration</th>\n",
       "      <th>Total Fwd Packets</th>\n",
       "      <th>Total Backward Packets</th>\n",
       "      <th>Total Length of Fwd Packets</th>\n",
       "      <th>Total Length of Bwd Packets</th>\n",
       "      <th>Fwd Packet Length Max</th>\n",
       "      <th>Fwd Packet Length Min</th>\n",
       "      <th>Fwd Packet Length Mean</th>\n",
       "      <th>...</th>\n",
       "      <th>act_data_pkt_fwd</th>\n",
       "      <th>min_seg_size_forward</th>\n",
       "      <th>Active Mean</th>\n",
       "      <th>Active Std</th>\n",
       "      <th>Active Max</th>\n",
       "      <th>Active Min</th>\n",
       "      <th>Idle Mean</th>\n",
       "      <th>Idle Std</th>\n",
       "      <th>Idle Max</th>\n",
       "      <th>Idle Min</th>\n",
       "    </tr>\n",
       "  </thead>\n",
       "  <tbody>\n",
       "    <tr>\n",
       "      <th>0</th>\n",
       "      <td>1</td>\n",
       "      <td>27726.0</td>\n",
       "      <td>8209117</td>\n",
       "      <td>1.0</td>\n",
       "      <td>5.0</td>\n",
       "      <td>6.0</td>\n",
       "      <td>30.0</td>\n",
       "      <td>6.0</td>\n",
       "      <td>6.0</td>\n",
       "      <td>6.000000</td>\n",
       "      <td>...</td>\n",
       "      <td>0.0</td>\n",
       "      <td>20.0</td>\n",
       "      <td>31705.000000</td>\n",
       "      <td>0.00000</td>\n",
       "      <td>31705.0</td>\n",
       "      <td>31705.0</td>\n",
       "      <td>8.177412e+06</td>\n",
       "      <td>0.000000e+00</td>\n",
       "      <td>8177412.0</td>\n",
       "      <td>8177412.0</td>\n",
       "    </tr>\n",
       "    <tr>\n",
       "      <th>1</th>\n",
       "      <td>2</td>\n",
       "      <td>443.0</td>\n",
       "      <td>447252</td>\n",
       "      <td>6.0</td>\n",
       "      <td>8.0</td>\n",
       "      <td>928.0</td>\n",
       "      <td>5458.0</td>\n",
       "      <td>517.0</td>\n",
       "      <td>0.0</td>\n",
       "      <td>154.666667</td>\n",
       "      <td>...</td>\n",
       "      <td>3.0</td>\n",
       "      <td>32.0</td>\n",
       "      <td>0.000000</td>\n",
       "      <td>0.00000</td>\n",
       "      <td>0.0</td>\n",
       "      <td>0.0</td>\n",
       "      <td>0.000000e+00</td>\n",
       "      <td>0.000000e+00</td>\n",
       "      <td>0.0</td>\n",
       "      <td>0.0</td>\n",
       "    </tr>\n",
       "    <tr>\n",
       "      <th>2</th>\n",
       "      <td>3</td>\n",
       "      <td>443.0</td>\n",
       "      <td>116214227</td>\n",
       "      <td>39.0</td>\n",
       "      <td>54.0</td>\n",
       "      <td>664.0</td>\n",
       "      <td>58596.0</td>\n",
       "      <td>325.0</td>\n",
       "      <td>0.0</td>\n",
       "      <td>17.025641</td>\n",
       "      <td>...</td>\n",
       "      <td>4.0</td>\n",
       "      <td>32.0</td>\n",
       "      <td>64218.583333</td>\n",
       "      <td>170119.67346</td>\n",
       "      <td>604421.0</td>\n",
       "      <td>14981.0</td>\n",
       "      <td>9.620296e+06</td>\n",
       "      <td>1.311574e+06</td>\n",
       "      <td>10020919.0</td>\n",
       "      <td>5455713.0</td>\n",
       "    </tr>\n",
       "    <tr>\n",
       "      <th>3</th>\n",
       "      <td>4</td>\n",
       "      <td>53.0</td>\n",
       "      <td>375</td>\n",
       "      <td>2.0</td>\n",
       "      <td>2.0</td>\n",
       "      <td>68.0</td>\n",
       "      <td>690.0</td>\n",
       "      <td>34.0</td>\n",
       "      <td>34.0</td>\n",
       "      <td>34.000000</td>\n",
       "      <td>...</td>\n",
       "      <td>1.0</td>\n",
       "      <td>20.0</td>\n",
       "      <td>0.000000</td>\n",
       "      <td>0.00000</td>\n",
       "      <td>0.0</td>\n",
       "      <td>0.0</td>\n",
       "      <td>0.000000e+00</td>\n",
       "      <td>0.000000e+00</td>\n",
       "      <td>0.0</td>\n",
       "      <td>0.0</td>\n",
       "    </tr>\n",
       "    <tr>\n",
       "      <th>4</th>\n",
       "      <td>5</td>\n",
       "      <td>53.0</td>\n",
       "      <td>46960</td>\n",
       "      <td>2.0</td>\n",
       "      <td>2.0</td>\n",
       "      <td>64.0</td>\n",
       "      <td>276.0</td>\n",
       "      <td>32.0</td>\n",
       "      <td>32.0</td>\n",
       "      <td>32.000000</td>\n",
       "      <td>...</td>\n",
       "      <td>1.0</td>\n",
       "      <td>32.0</td>\n",
       "      <td>0.000000</td>\n",
       "      <td>0.00000</td>\n",
       "      <td>0.0</td>\n",
       "      <td>0.0</td>\n",
       "      <td>0.000000e+00</td>\n",
       "      <td>0.000000e+00</td>\n",
       "      <td>0.0</td>\n",
       "      <td>0.0</td>\n",
       "    </tr>\n",
       "    <tr>\n",
       "      <th>...</th>\n",
       "      <td>...</td>\n",
       "      <td>...</td>\n",
       "      <td>...</td>\n",
       "      <td>...</td>\n",
       "      <td>...</td>\n",
       "      <td>...</td>\n",
       "      <td>...</td>\n",
       "      <td>...</td>\n",
       "      <td>...</td>\n",
       "      <td>...</td>\n",
       "      <td>...</td>\n",
       "      <td>...</td>\n",
       "      <td>...</td>\n",
       "      <td>...</td>\n",
       "      <td>...</td>\n",
       "      <td>...</td>\n",
       "      <td>...</td>\n",
       "      <td>...</td>\n",
       "      <td>...</td>\n",
       "      <td>...</td>\n",
       "      <td>...</td>\n",
       "    </tr>\n",
       "    <tr>\n",
       "      <th>220</th>\n",
       "      <td>221</td>\n",
       "      <td>80.0</td>\n",
       "      <td>1356351</td>\n",
       "      <td>3.0</td>\n",
       "      <td>5.0</td>\n",
       "      <td>26.0</td>\n",
       "      <td>11607.0</td>\n",
       "      <td>20.0</td>\n",
       "      <td>0.0</td>\n",
       "      <td>8.666667</td>\n",
       "      <td>...</td>\n",
       "      <td>2.0</td>\n",
       "      <td>20.0</td>\n",
       "      <td>0.000000</td>\n",
       "      <td>0.00000</td>\n",
       "      <td>0.0</td>\n",
       "      <td>0.0</td>\n",
       "      <td>0.000000e+00</td>\n",
       "      <td>0.000000e+00</td>\n",
       "      <td>0.0</td>\n",
       "      <td>0.0</td>\n",
       "    </tr>\n",
       "    <tr>\n",
       "      <th>221</th>\n",
       "      <td>222</td>\n",
       "      <td>80.0</td>\n",
       "      <td>154341</td>\n",
       "      <td>3.0</td>\n",
       "      <td>4.0</td>\n",
       "      <td>26.0</td>\n",
       "      <td>11607.0</td>\n",
       "      <td>20.0</td>\n",
       "      <td>0.0</td>\n",
       "      <td>8.666667</td>\n",
       "      <td>...</td>\n",
       "      <td>2.0</td>\n",
       "      <td>20.0</td>\n",
       "      <td>0.000000</td>\n",
       "      <td>0.00000</td>\n",
       "      <td>0.0</td>\n",
       "      <td>0.0</td>\n",
       "      <td>0.000000e+00</td>\n",
       "      <td>0.000000e+00</td>\n",
       "      <td>0.0</td>\n",
       "      <td>0.0</td>\n",
       "    </tr>\n",
       "    <tr>\n",
       "      <th>222</th>\n",
       "      <td>223</td>\n",
       "      <td>80.0</td>\n",
       "      <td>101945792</td>\n",
       "      <td>8.0</td>\n",
       "      <td>6.0</td>\n",
       "      <td>56.0</td>\n",
       "      <td>11607.0</td>\n",
       "      <td>20.0</td>\n",
       "      <td>0.0</td>\n",
       "      <td>7.000000</td>\n",
       "      <td>...</td>\n",
       "      <td>6.0</td>\n",
       "      <td>20.0</td>\n",
       "      <td>5.000000</td>\n",
       "      <td>0.00000</td>\n",
       "      <td>5.0</td>\n",
       "      <td>5.0</td>\n",
       "      <td>5.070000e+07</td>\n",
       "      <td>6.150000e+07</td>\n",
       "      <td>94200000.0</td>\n",
       "      <td>7198842.0</td>\n",
       "    </tr>\n",
       "    <tr>\n",
       "      <th>223</th>\n",
       "      <td>224</td>\n",
       "      <td>80.0</td>\n",
       "      <td>9117257</td>\n",
       "      <td>5.0</td>\n",
       "      <td>0.0</td>\n",
       "      <td>30.0</td>\n",
       "      <td>0.0</td>\n",
       "      <td>6.0</td>\n",
       "      <td>6.0</td>\n",
       "      <td>6.000000</td>\n",
       "      <td>...</td>\n",
       "      <td>4.0</td>\n",
       "      <td>20.0</td>\n",
       "      <td>1457.000000</td>\n",
       "      <td>0.00000</td>\n",
       "      <td>1457.0</td>\n",
       "      <td>1457.0</td>\n",
       "      <td>9.115800e+06</td>\n",
       "      <td>0.000000e+00</td>\n",
       "      <td>9115800.0</td>\n",
       "      <td>9115800.0</td>\n",
       "    </tr>\n",
       "    <tr>\n",
       "      <th>224</th>\n",
       "      <td>225</td>\n",
       "      <td>80.0</td>\n",
       "      <td>835786</td>\n",
       "      <td>3.0</td>\n",
       "      <td>6.0</td>\n",
       "      <td>26.0</td>\n",
       "      <td>11607.0</td>\n",
       "      <td>20.0</td>\n",
       "      <td>0.0</td>\n",
       "      <td>8.666667</td>\n",
       "      <td>...</td>\n",
       "      <td>2.0</td>\n",
       "      <td>20.0</td>\n",
       "      <td>0.000000</td>\n",
       "      <td>0.00000</td>\n",
       "      <td>0.0</td>\n",
       "      <td>0.0</td>\n",
       "      <td>0.000000e+00</td>\n",
       "      <td>0.000000e+00</td>\n",
       "      <td>0.0</td>\n",
       "      <td>0.0</td>\n",
       "    </tr>\n",
       "  </tbody>\n",
       "</table>\n",
       "<p>225 rows × 67 columns</p>\n",
       "</div>"
      ],
      "text/plain": [
       "     serial   Destination Port   Flow Duration   Total Fwd Packets  \\\n",
       "0         1            27726.0         8209117                 1.0   \n",
       "1         2              443.0          447252                 6.0   \n",
       "2         3              443.0       116214227                39.0   \n",
       "3         4               53.0             375                 2.0   \n",
       "4         5               53.0           46960                 2.0   \n",
       "..      ...                ...             ...                 ...   \n",
       "220     221               80.0         1356351                 3.0   \n",
       "221     222               80.0          154341                 3.0   \n",
       "222     223               80.0       101945792                 8.0   \n",
       "223     224               80.0         9117257                 5.0   \n",
       "224     225               80.0          835786                 3.0   \n",
       "\n",
       "      Total Backward Packets  Total Length of Fwd Packets  \\\n",
       "0                        5.0                          6.0   \n",
       "1                        8.0                        928.0   \n",
       "2                       54.0                        664.0   \n",
       "3                        2.0                         68.0   \n",
       "4                        2.0                         64.0   \n",
       "..                       ...                          ...   \n",
       "220                      5.0                         26.0   \n",
       "221                      4.0                         26.0   \n",
       "222                      6.0                         56.0   \n",
       "223                      0.0                         30.0   \n",
       "224                      6.0                         26.0   \n",
       "\n",
       "      Total Length of Bwd Packets   Fwd Packet Length Max  \\\n",
       "0                            30.0                     6.0   \n",
       "1                          5458.0                   517.0   \n",
       "2                         58596.0                   325.0   \n",
       "3                           690.0                    34.0   \n",
       "4                           276.0                    32.0   \n",
       "..                            ...                     ...   \n",
       "220                       11607.0                    20.0   \n",
       "221                       11607.0                    20.0   \n",
       "222                       11607.0                    20.0   \n",
       "223                           0.0                     6.0   \n",
       "224                       11607.0                    20.0   \n",
       "\n",
       "      Fwd Packet Length Min   Fwd Packet Length Mean  ...   act_data_pkt_fwd  \\\n",
       "0                       6.0                 6.000000  ...                0.0   \n",
       "1                       0.0               154.666667  ...                3.0   \n",
       "2                       0.0                17.025641  ...                4.0   \n",
       "3                      34.0                34.000000  ...                1.0   \n",
       "4                      32.0                32.000000  ...                1.0   \n",
       "..                      ...                      ...  ...                ...   \n",
       "220                     0.0                 8.666667  ...                2.0   \n",
       "221                     0.0                 8.666667  ...                2.0   \n",
       "222                     0.0                 7.000000  ...                6.0   \n",
       "223                     6.0                 6.000000  ...                4.0   \n",
       "224                     0.0                 8.666667  ...                2.0   \n",
       "\n",
       "      min_seg_size_forward   Active Mean    Active Std   Active Max  \\\n",
       "0                     20.0  31705.000000       0.00000      31705.0   \n",
       "1                     32.0      0.000000       0.00000          0.0   \n",
       "2                     32.0  64218.583333  170119.67346     604421.0   \n",
       "3                     20.0      0.000000       0.00000          0.0   \n",
       "4                     32.0      0.000000       0.00000          0.0   \n",
       "..                     ...           ...           ...          ...   \n",
       "220                   20.0      0.000000       0.00000          0.0   \n",
       "221                   20.0      0.000000       0.00000          0.0   \n",
       "222                   20.0      5.000000       0.00000          5.0   \n",
       "223                   20.0   1457.000000       0.00000       1457.0   \n",
       "224                   20.0      0.000000       0.00000          0.0   \n",
       "\n",
       "      Active Min     Idle Mean      Idle Std    Idle Max   Idle Min  \n",
       "0        31705.0  8.177412e+06  0.000000e+00   8177412.0  8177412.0  \n",
       "1            0.0  0.000000e+00  0.000000e+00         0.0        0.0  \n",
       "2        14981.0  9.620296e+06  1.311574e+06  10020919.0  5455713.0  \n",
       "3            0.0  0.000000e+00  0.000000e+00         0.0        0.0  \n",
       "4            0.0  0.000000e+00  0.000000e+00         0.0        0.0  \n",
       "..           ...           ...           ...         ...        ...  \n",
       "220          0.0  0.000000e+00  0.000000e+00         0.0        0.0  \n",
       "221          0.0  0.000000e+00  0.000000e+00         0.0        0.0  \n",
       "222          5.0  5.070000e+07  6.150000e+07  94200000.0  7198842.0  \n",
       "223       1457.0  9.115800e+06  0.000000e+00   9115800.0  9115800.0  \n",
       "224          0.0  0.000000e+00  0.000000e+00         0.0        0.0  \n",
       "\n",
       "[225 rows x 67 columns]"
      ]
     },
     "execution_count": 39,
     "metadata": {},
     "output_type": "execute_result"
    }
   ],
   "source": [
    "df"
   ]
  },
  {
   "cell_type": "code",
   "execution_count": 56,
   "id": "e38e587d",
   "metadata": {},
   "outputs": [
    {
     "data": {
      "text/plain": [
       "'E:\\\\full stack\\\\internship\\\\network security'"
      ]
     },
     "execution_count": 56,
     "metadata": {},
     "output_type": "execute_result"
    }
   ],
   "source": [
    "pwd"
   ]
  },
  {
   "cell_type": "code",
   "execution_count": 68,
   "id": "5c2fea2f",
   "metadata": {},
   "outputs": [
    {
     "name": "stderr",
     "output_type": "stream",
     "text": [
      "C:\\Users\\Dell\\AppData\\Roaming\\Python\\Python38\\site-packages\\sklearn\\base.py:313: UserWarning: Trying to unpickle estimator DecisionTreeClassifier from version 0.24.2 when using version 0.22.1. This might lead to breaking code or invalid results. Use at your own risk.\n",
      "  warnings.warn(\n",
      "C:\\Users\\Dell\\AppData\\Roaming\\Python\\Python38\\site-packages\\sklearn\\base.py:313: UserWarning: Trying to unpickle estimator RandomForestClassifier from version 0.24.2 when using version 0.22.1. This might lead to breaking code or invalid results. Use at your own risk.\n",
      "  warnings.warn(\n"
     ]
    }
   ],
   "source": [
    "import pickle\n",
    "model_directory = \"models/\"\n",
    "filename = \"random_forest0\"\n",
    "with open(model_directory + filename + '/' + filename + '.sav',\n",
    "                      'rb') as f:\n",
    "    ab = pickle.load(f)"
   ]
  },
  {
   "cell_type": "code",
   "execution_count": 90,
   "id": "06651bc0",
   "metadata": {},
   "outputs": [
    {
     "data": {
      "text/plain": [
       "array(['Heartbleed'], dtype=object)"
      ]
     },
     "execution_count": 90,
     "metadata": {},
     "output_type": "execute_result"
    }
   ],
   "source": [
    "ab.predict([[0,0,0,0,0,6,0,0,0,0,450000000000,24,0,0,0,0,0,5,5,4]])"
   ]
  },
  {
   "cell_type": "code",
   "execution_count": null,
   "id": "e8f00913",
   "metadata": {},
   "outputs": [],
   "source": []
  }
 ],
 "metadata": {
  "kernelspec": {
   "display_name": "Python 3",
   "language": "python",
   "name": "python3"
  },
  "language_info": {
   "codemirror_mode": {
    "name": "ipython",
    "version": 3
   },
   "file_extension": ".py",
   "mimetype": "text/x-python",
   "name": "python",
   "nbconvert_exporter": "python",
   "pygments_lexer": "ipython3",
   "version": "3.8.8"
  }
 },
 "nbformat": 4,
 "nbformat_minor": 5
}
